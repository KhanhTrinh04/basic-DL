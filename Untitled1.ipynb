{
 "cells": [
  {
   "cell_type": "code",
   "execution_count": 22,
   "id": "78065e80-4d43-43ef-bd9b-bf053164357c",
   "metadata": {},
   "outputs": [],
   "source": [
    "import pandas as pd\n",
    "import numpy as np\n",
    "from sklearn.impute import SimpleImputer\n",
    "from sklearn import model_selection as ms\n",
    "\n",
    "d_test = pd.read_excel(r\"\")\n",
    "d_train = pd.read_csv(r\"\", encoding='latin1')"
   ]
  },
  {
   "cell_type": "code",
   "execution_count": null,
   "id": "7de84d6f-6c0a-4a09-9e6f-754623157d4b",
   "metadata": {},
   "outputs": [],
   "source": [
    "d_test.head()"
   ]
  },
  {
   "cell_type": "code",
   "execution_count": null,
   "id": "057296f7-fcf5-4084-b402-8bc6819c0e24",
   "metadata": {},
   "outputs": [],
   "source": [
    "d_test.info()"
   ]
  },
  {
   "cell_type": "code",
   "execution_count": null,
   "id": "f236ed4b-9305-462d-84ed-ffe4855b74fa",
   "metadata": {},
   "outputs": [],
   "source": [
    "\n",
    "\n",
    "imp = SimpleImputer(missing_values=np.nan, strategy='mean')\n",
    "\n",
    "x = d_train.iloc[:, 1:-1]\n",
    "y = d_train.iloc[:, -1].to_numpy()\n",
    "\n",
    "x_train, x_test, y_train, y_test = ms.train_test_split(x, y, test_size=0.2, random_state=42)\n"
   ]
  }
 ],
 "metadata": {
  "kernelspec": {
   "display_name": "Python 3 (ipykernel)",
   "language": "python",
   "name": "python3"
  },
  "language_info": {
   "codemirror_mode": {
    "name": "ipython",
    "version": 3
   },
   "file_extension": ".py",
   "mimetype": "text/x-python",
   "name": "python",
   "nbconvert_exporter": "python",
   "pygments_lexer": "ipython3",
   "version": "3.10.18"
  }
 },
 "nbformat": 4,
 "nbformat_minor": 5
}
