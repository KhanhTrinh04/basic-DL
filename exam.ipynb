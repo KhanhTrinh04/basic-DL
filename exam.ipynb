{
 "cells": [
  {
   "cell_type": "code",
   "execution_count": 21,
   "id": "726c0b1e-87cc-43c3-9c43-33b31a75d339",
   "metadata": {},
   "outputs": [],
   "source": [
    "import pandas as pd\n",
    "import numpy as np\n",
    "import os\n",
    "\n",
    "data_path = r\"E:\\DeepLearning\\datasets\"\n",
    "train_df = pd.read_csv(os.path.join(data_path, \"train.csv\"))\n",
    "images_path = os.path.join(data_path, \"images\")"
   ]
  },
  {
   "cell_type": "code",
   "execution_count": 22,
   "id": "75c01d6c-c7d6-4f90-9960-83d78eac4de4",
   "metadata": {
    "collapsed": true,
    "jupyter": {
     "outputs_hidden": true
    },
    "scrolled": true
   },
   "outputs": [
    {
     "data": {
      "text/html": [
       "<div>\n",
       "<style scoped>\n",
       "    .dataframe tbody tr th:only-of-type {\n",
       "        vertical-align: middle;\n",
       "    }\n",
       "\n",
       "    .dataframe tbody tr th {\n",
       "        vertical-align: top;\n",
       "    }\n",
       "\n",
       "    .dataframe thead th {\n",
       "        text-align: right;\n",
       "    }\n",
       "</style>\n",
       "<table border=\"1\" class=\"dataframe\">\n",
       "  <thead>\n",
       "    <tr style=\"text-align: right;\">\n",
       "      <th></th>\n",
       "      <th>image_id</th>\n",
       "      <th>healthy</th>\n",
       "      <th>multiple_diseases</th>\n",
       "      <th>rust</th>\n",
       "      <th>scab</th>\n",
       "    </tr>\n",
       "  </thead>\n",
       "  <tbody>\n",
       "    <tr>\n",
       "      <th>0</th>\n",
       "      <td>Train_0</td>\n",
       "      <td>0</td>\n",
       "      <td>0</td>\n",
       "      <td>0</td>\n",
       "      <td>1</td>\n",
       "    </tr>\n",
       "    <tr>\n",
       "      <th>1</th>\n",
       "      <td>Train_1</td>\n",
       "      <td>0</td>\n",
       "      <td>1</td>\n",
       "      <td>0</td>\n",
       "      <td>0</td>\n",
       "    </tr>\n",
       "    <tr>\n",
       "      <th>2</th>\n",
       "      <td>Train_2</td>\n",
       "      <td>1</td>\n",
       "      <td>0</td>\n",
       "      <td>0</td>\n",
       "      <td>0</td>\n",
       "    </tr>\n",
       "    <tr>\n",
       "      <th>3</th>\n",
       "      <td>Train_3</td>\n",
       "      <td>0</td>\n",
       "      <td>0</td>\n",
       "      <td>1</td>\n",
       "      <td>0</td>\n",
       "    </tr>\n",
       "    <tr>\n",
       "      <th>4</th>\n",
       "      <td>Train_4</td>\n",
       "      <td>1</td>\n",
       "      <td>0</td>\n",
       "      <td>0</td>\n",
       "      <td>0</td>\n",
       "    </tr>\n",
       "  </tbody>\n",
       "</table>\n",
       "</div>"
      ],
      "text/plain": [
       "  image_id  healthy  multiple_diseases  rust  scab\n",
       "0  Train_0        0                  0     0     1\n",
       "1  Train_1        0                  1     0     0\n",
       "2  Train_2        1                  0     0     0\n",
       "3  Train_3        0                  0     1     0\n",
       "4  Train_4        1                  0     0     0"
      ]
     },
     "execution_count": 22,
     "metadata": {},
     "output_type": "execute_result"
    }
   ],
   "source": [
    "train_df.head()"
   ]
  },
  {
   "cell_type": "code",
   "execution_count": 23,
   "id": "ff79948f-2cc0-47e8-a359-e748fc690d27",
   "metadata": {},
   "outputs": [
    {
     "data": {
      "text/plain": [
       "(1821, 5)"
      ]
     },
     "execution_count": 23,
     "metadata": {},
     "output_type": "execute_result"
    }
   ],
   "source": [
    "train_df.shape"
   ]
  },
  {
   "cell_type": "code",
   "execution_count": 24,
   "id": "b275849e-0aed-468b-924f-a6e3f92c46ee",
   "metadata": {
    "collapsed": true,
    "jupyter": {
     "outputs_hidden": true
    },
    "scrolled": true
   },
   "outputs": [
    {
     "name": "stdout",
     "output_type": "stream",
     "text": [
      "<class 'pandas.core.frame.DataFrame'>\n",
      "RangeIndex: 1821 entries, 0 to 1820\n",
      "Data columns (total 5 columns):\n",
      " #   Column             Non-Null Count  Dtype \n",
      "---  ------             --------------  ----- \n",
      " 0   image_id           1821 non-null   object\n",
      " 1   healthy            1821 non-null   int64 \n",
      " 2   multiple_diseases  1821 non-null   int64 \n",
      " 3   rust               1821 non-null   int64 \n",
      " 4   scab               1821 non-null   int64 \n",
      "dtypes: int64(4), object(1)\n",
      "memory usage: 71.3+ KB\n"
     ]
    }
   ],
   "source": [
    "train_df.info()"
   ]
  },
  {
   "cell_type": "code",
   "execution_count": 25,
   "id": "89e748bb-25af-4fe4-91de-97601ca43619",
   "metadata": {
    "collapsed": true,
    "jupyter": {
     "outputs_hidden": true
    },
    "scrolled": true
   },
   "outputs": [
    {
     "data": {
      "text/plain": [
       "image_id             0\n",
       "healthy              0\n",
       "multiple_diseases    0\n",
       "rust                 0\n",
       "scab                 0\n",
       "dtype: int64"
      ]
     },
     "execution_count": 25,
     "metadata": {},
     "output_type": "execute_result"
    }
   ],
   "source": [
    "train_df.isnull().sum()"
   ]
  },
  {
   "cell_type": "code",
   "execution_count": 26,
   "id": "94ca6293-5266-424e-9415-87f697d36737",
   "metadata": {
    "collapsed": true,
    "jupyter": {
     "outputs_hidden": true
    },
    "scrolled": true
   },
   "outputs": [
    {
     "data": {
      "text/html": [
       "<div>\n",
       "<style scoped>\n",
       "    .dataframe tbody tr th:only-of-type {\n",
       "        vertical-align: middle;\n",
       "    }\n",
       "\n",
       "    .dataframe tbody tr th {\n",
       "        vertical-align: top;\n",
       "    }\n",
       "\n",
       "    .dataframe thead th {\n",
       "        text-align: right;\n",
       "    }\n",
       "</style>\n",
       "<table border=\"1\" class=\"dataframe\">\n",
       "  <thead>\n",
       "    <tr style=\"text-align: right;\">\n",
       "      <th></th>\n",
       "      <th>image_id</th>\n",
       "      <th>label</th>\n",
       "    </tr>\n",
       "  </thead>\n",
       "  <tbody>\n",
       "    <tr>\n",
       "      <th>0</th>\n",
       "      <td>Train_0</td>\n",
       "      <td>scab</td>\n",
       "    </tr>\n",
       "    <tr>\n",
       "      <th>1</th>\n",
       "      <td>Train_1</td>\n",
       "      <td>multiple_diseases</td>\n",
       "    </tr>\n",
       "    <tr>\n",
       "      <th>2</th>\n",
       "      <td>Train_2</td>\n",
       "      <td>healthy</td>\n",
       "    </tr>\n",
       "    <tr>\n",
       "      <th>3</th>\n",
       "      <td>Train_3</td>\n",
       "      <td>rust</td>\n",
       "    </tr>\n",
       "    <tr>\n",
       "      <th>4</th>\n",
       "      <td>Train_4</td>\n",
       "      <td>healthy</td>\n",
       "    </tr>\n",
       "  </tbody>\n",
       "</table>\n",
       "</div>"
      ],
      "text/plain": [
       "  image_id              label\n",
       "0  Train_0               scab\n",
       "1  Train_1  multiple_diseases\n",
       "2  Train_2            healthy\n",
       "3  Train_3               rust\n",
       "4  Train_4            healthy"
      ]
     },
     "execution_count": 26,
     "metadata": {},
     "output_type": "execute_result"
    }
   ],
   "source": [
    "train_df['label'] = train_df[['healthy', 'multiple_diseases', 'rust', 'scab']].idxmax(axis=1)\n",
    "train_df[['image_id', 'label']].head()"
   ]
  },
  {
   "cell_type": "code",
   "execution_count": 27,
   "id": "0a1253b8-4e8c-4d4d-8bc2-5724fa741133",
   "metadata": {},
   "outputs": [
    {
     "data": {
      "text/plain": [
       "Index(['image_id', 'healthy', 'multiple_diseases', 'rust', 'scab', 'label'], dtype='object')"
      ]
     },
     "execution_count": 27,
     "metadata": {},
     "output_type": "execute_result"
    }
   ],
   "source": [
    "train_df.columns"
   ]
  },
  {
   "cell_type": "markdown",
   "id": "f55e656f-b091-4d14-bb65-e8aff910219c",
   "metadata": {},
   "source": [
    "# Scikit Learn"
   ]
  },
  {
   "cell_type": "markdown",
   "id": "58db3808-5feb-4a1d-8bff-453467bd8f2a",
   "metadata": {},
   "source": [
    "### MLP"
   ]
  },
  {
   "cell_type": "code",
   "execution_count": 28,
   "id": "aa011074-e006-493c-890e-99cd6a40e11a",
   "metadata": {},
   "outputs": [],
   "source": [
    "import cv2\n",
    "from sklearn.model_selection import train_test_split\n",
    "from sklearn.preprocessing import LabelEncoder\n",
    "from sklearn.metrics import classification_report\n",
    "\n",
    "labels = train_df[\"label\"].values\n",
    "le = LabelEncoder()\n",
    "y = le.fit_transform(labels)"
   ]
  },
  {
   "cell_type": "code",
   "execution_count": 29,
   "id": "cd27c148-bfb9-4bd9-8c0c-5c5b3d34a308",
   "metadata": {},
   "outputs": [],
   "source": [
    "# Đọc và resize ảnh, flatten thành vector\n",
    "X = []\n",
    "for img_id in train_df[\"image_id\"]:\n",
    "    img_path = os.path.join(images_path, img_id + \".jpg\")\n",
    "    img = cv2.imread(img_path, cv2.IMREAD_GRAYSCALE)\n",
    "    img = cv2.resize(img, (64, 64))   # resize nhỏ cho nhanh\n",
    "    X.append(img.flatten())\n",
    "\n",
    "X = np.array(X)"
   ]
  },
  {
   "cell_type": "code",
   "execution_count": 30,
   "id": "3db67b16-c719-404a-a9ea-03b91dba2882",
   "metadata": {},
   "outputs": [],
   "source": [
    "X_train, X_test, y_train, y_test = train_test_split(\n",
    "    X, y, test_size=0.2, random_state=42\n",
    ")"
   ]
  },
  {
   "cell_type": "code",
   "execution_count": 31,
   "id": "e8c999ff-e716-493b-bf3a-8992f266b1a3",
   "metadata": {
    "collapsed": true,
    "jupyter": {
     "outputs_hidden": true
    },
    "scrolled": true
   },
   "outputs": [
    {
     "name": "stdout",
     "output_type": "stream",
     "text": [
      "MLP Classifier Report:\n",
      "                   precision    recall  f1-score   support\n",
      "\n",
      "          healthy       0.41      0.31      0.35       100\n",
      "multiple_diseases       0.00      0.00      0.00        18\n",
      "             rust       0.36      0.86      0.51       120\n",
      "             scab       1.00      0.01      0.02       127\n",
      "\n",
      "         accuracy                           0.37       365\n",
      "        macro avg       0.44      0.29      0.22       365\n",
      "     weighted avg       0.58      0.37      0.27       365\n",
      "\n"
     ]
    },
    {
     "name": "stderr",
     "output_type": "stream",
     "text": [
      "C:\\Users\\hilda\\anaconda3\\envs\\myenv\\lib\\site-packages\\sklearn\\neural_network\\_multilayer_perceptron.py:781: ConvergenceWarning: Stochastic Optimizer: Maximum iterations (20) reached and the optimization hasn't converged yet.\n",
      "  warnings.warn(\n"
     ]
    }
   ],
   "source": [
    "from sklearn.neural_network import MLPClassifier\n",
    "\n",
    "mlp = MLPClassifier(\n",
    "    hidden_layer_sizes=(128, 64), \n",
    "    activation='relu',\n",
    "    max_iter=20, \n",
    "    random_state=42\n",
    ")\n",
    "\n",
    "mlp.fit(X_train, y_train)\n",
    "y_pred = mlp.predict(X_test)\n",
    "\n",
    "print(\"MLP Classifier Report:\")\n",
    "print(classification_report(y_test, y_pred, target_names=le.classes_))"
   ]
  },
  {
   "cell_type": "markdown",
   "id": "02b6e4a2-d62e-4707-adf9-e1e494923e5a",
   "metadata": {},
   "source": [
    "### BernoulliRBM"
   ]
  },
  {
   "cell_type": "code",
   "execution_count": 32,
   "id": "7c7692ad-d0be-44a0-9572-bd7fb2969467",
   "metadata": {
    "collapsed": true,
    "jupyter": {
     "outputs_hidden": true
    },
    "scrolled": true
   },
   "outputs": [
    {
     "name": "stdout",
     "output_type": "stream",
     "text": [
      "RBM + Logistic Regression Report:\n",
      "                   precision    recall  f1-score   support\n",
      "\n",
      "          healthy       0.00      0.00      0.00       100\n",
      "multiple_diseases       0.00      0.00      0.00        18\n",
      "             rust       0.33      1.00      0.49       120\n",
      "             scab       0.00      0.00      0.00       127\n",
      "\n",
      "         accuracy                           0.33       365\n",
      "        macro avg       0.08      0.25      0.12       365\n",
      "     weighted avg       0.11      0.33      0.16       365\n",
      "\n"
     ]
    },
    {
     "name": "stderr",
     "output_type": "stream",
     "text": [
      "C:\\Users\\hilda\\anaconda3\\envs\\myenv\\lib\\site-packages\\sklearn\\metrics\\_classification.py:1731: UndefinedMetricWarning: Precision is ill-defined and being set to 0.0 in labels with no predicted samples. Use `zero_division` parameter to control this behavior.\n",
      "  _warn_prf(average, modifier, f\"{metric.capitalize()} is\", result.shape[0])\n",
      "C:\\Users\\hilda\\anaconda3\\envs\\myenv\\lib\\site-packages\\sklearn\\metrics\\_classification.py:1731: UndefinedMetricWarning: Precision is ill-defined and being set to 0.0 in labels with no predicted samples. Use `zero_division` parameter to control this behavior.\n",
      "  _warn_prf(average, modifier, f\"{metric.capitalize()} is\", result.shape[0])\n",
      "C:\\Users\\hilda\\anaconda3\\envs\\myenv\\lib\\site-packages\\sklearn\\metrics\\_classification.py:1731: UndefinedMetricWarning: Precision is ill-defined and being set to 0.0 in labels with no predicted samples. Use `zero_division` parameter to control this behavior.\n",
      "  _warn_prf(average, modifier, f\"{metric.capitalize()} is\", result.shape[0])\n"
     ]
    }
   ],
   "source": [
    "from sklearn.neural_network import BernoulliRBM\n",
    "from sklearn.linear_model import LogisticRegression\n",
    "from sklearn.pipeline import Pipeline\n",
    "\n",
    "rbm = BernoulliRBM(n_components=64, learning_rate=0.01, n_iter=10, random_state=42)\n",
    "logistic = LogisticRegression(max_iter=1000)\n",
    "\n",
    "rbm_clf = Pipeline(steps=[(\"rbm\", rbm), (\"logistic\", logistic)])\n",
    "\n",
    "rbm_clf.fit(X_train, y_train)\n",
    "y_pred_rbm = rbm_clf.predict(X_test)\n",
    "\n",
    "print(\"RBM + Logistic Regression Report:\")\n",
    "print(classification_report(y_test, y_pred_rbm, target_names=le.classes_))"
   ]
  },
  {
   "cell_type": "markdown",
   "id": "23184e14-7bf5-4760-9f02-a92b6f1c5104",
   "metadata": {},
   "source": [
    "#### Overfit"
   ]
  },
  {
   "cell_type": "code",
   "execution_count": 33,
   "id": "c3537de6-c50f-4011-91b4-2188e8b451bf",
   "metadata": {},
   "outputs": [],
   "source": [
    "mlp = MLPClassifier(\n",
    "    hidden_layer_sizes=(64,),  # giảm số neuron\n",
    "    activation='relu',\n",
    "    max_iter=100,\n",
    "    random_state=42\n",
    ")"
   ]
  },
  {
   "cell_type": "code",
   "execution_count": 36,
   "id": "cd003616-bbe1-4826-bdc6-e421cacfc94e",
   "metadata": {
    "collapsed": true,
    "jupyter": {
     "outputs_hidden": true
    },
    "scrolled": true
   },
   "outputs": [
    {
     "name": "stdout",
     "output_type": "stream",
     "text": [
      "MLP Classifier Report (sau giảm overfit):\n",
      "                   precision    recall  f1-score   support\n",
      "\n",
      "          healthy       0.00      0.00      0.00       100\n",
      "multiple_diseases       0.00      0.00      0.00        18\n",
      "             rust       0.33      1.00      0.49       120\n",
      "             scab       0.00      0.00      0.00       127\n",
      "\n",
      "         accuracy                           0.33       365\n",
      "        macro avg       0.08      0.25      0.12       365\n",
      "     weighted avg       0.11      0.33      0.16       365\n",
      "\n"
     ]
    },
    {
     "name": "stderr",
     "output_type": "stream",
     "text": [
      "C:\\Users\\hilda\\anaconda3\\envs\\myenv\\lib\\site-packages\\sklearn\\neural_network\\_multilayer_perceptron.py:781: ConvergenceWarning: Stochastic Optimizer: Maximum iterations (100) reached and the optimization hasn't converged yet.\n",
      "  warnings.warn(\n",
      "C:\\Users\\hilda\\anaconda3\\envs\\myenv\\lib\\site-packages\\sklearn\\metrics\\_classification.py:1731: UndefinedMetricWarning: Precision is ill-defined and being set to 0.0 in labels with no predicted samples. Use `zero_division` parameter to control this behavior.\n",
      "  _warn_prf(average, modifier, f\"{metric.capitalize()} is\", result.shape[0])\n",
      "C:\\Users\\hilda\\anaconda3\\envs\\myenv\\lib\\site-packages\\sklearn\\metrics\\_classification.py:1731: UndefinedMetricWarning: Precision is ill-defined and being set to 0.0 in labels with no predicted samples. Use `zero_division` parameter to control this behavior.\n",
      "  _warn_prf(average, modifier, f\"{metric.capitalize()} is\", result.shape[0])\n",
      "C:\\Users\\hilda\\anaconda3\\envs\\myenv\\lib\\site-packages\\sklearn\\metrics\\_classification.py:1731: UndefinedMetricWarning: Precision is ill-defined and being set to 0.0 in labels with no predicted samples. Use `zero_division` parameter to control this behavior.\n",
      "  _warn_prf(average, modifier, f\"{metric.capitalize()} is\", result.shape[0])\n"
     ]
    }
   ],
   "source": [
    "mlp.fit(X_train, y_train)\n",
    "\n",
    "y_pred = mlp.predict(X_test)\n",
    "\n",
    "from sklearn.metrics import classification_report\n",
    "print(\"MLP Classifier Report (sau giảm overfit):\")\n",
    "print(classification_report(y_test, y_pred, target_names=le.classes_))\n"
   ]
  },
  {
   "cell_type": "markdown",
   "id": "74a2ae19-7abb-405a-a09f-fa0c664c7309",
   "metadata": {},
   "source": [
    "#### Drop out"
   ]
  },
  {
   "cell_type": "code",
   "execution_count": 39,
   "id": "953a1532-6acc-44b2-8187-77064d75977b",
   "metadata": {
    "collapsed": true,
    "jupyter": {
     "outputs_hidden": true
    },
    "scrolled": true
   },
   "outputs": [
    {
     "name": "stdout",
     "output_type": "stream",
     "text": [
      "Epoch 1/20\n",
      "\u001b[1m46/46\u001b[0m \u001b[32m━━━━━━━━━━━━━━━━━━━━\u001b[0m\u001b[37m\u001b[0m \u001b[1m1s\u001b[0m 9ms/step - accuracy: 0.3132 - loss: 1.4511 - val_accuracy: 0.3507 - val_loss: 1.2619\n",
      "Epoch 2/20\n",
      "\u001b[1m46/46\u001b[0m \u001b[32m━━━━━━━━━━━━━━━━━━━━\u001b[0m\u001b[37m\u001b[0m \u001b[1m0s\u001b[0m 5ms/step - accuracy: 0.3194 - loss: 1.2919 - val_accuracy: 0.3014 - val_loss: 1.2717\n",
      "Epoch 3/20\n",
      "\u001b[1m46/46\u001b[0m \u001b[32m━━━━━━━━━━━━━━━━━━━━\u001b[0m\u001b[37m\u001b[0m \u001b[1m0s\u001b[0m 4ms/step - accuracy: 0.3207 - loss: 1.2737 - val_accuracy: 0.3288 - val_loss: 1.2546\n",
      "Epoch 4/20\n",
      "\u001b[1m46/46\u001b[0m \u001b[32m━━━━━━━━━━━━━━━━━━━━\u001b[0m\u001b[37m\u001b[0m \u001b[1m0s\u001b[0m 4ms/step - accuracy: 0.3372 - loss: 1.2811 - val_accuracy: 0.3425 - val_loss: 1.2632\n",
      "Epoch 5/20\n",
      "\u001b[1m46/46\u001b[0m \u001b[32m━━━━━━━━━━━━━━━━━━━━\u001b[0m\u001b[37m\u001b[0m \u001b[1m0s\u001b[0m 5ms/step - accuracy: 0.3565 - loss: 1.2606 - val_accuracy: 0.3425 - val_loss: 1.2905\n",
      "Epoch 6/20\n",
      "\u001b[1m46/46\u001b[0m \u001b[32m━━━━━━━━━━━━━━━━━━━━\u001b[0m\u001b[37m\u001b[0m \u001b[1m0s\u001b[0m 4ms/step - accuracy: 0.3475 - loss: 1.2707 - val_accuracy: 0.3425 - val_loss: 1.2686\n",
      "Epoch 7/20\n",
      "\u001b[1m46/46\u001b[0m \u001b[32m━━━━━━━━━━━━━━━━━━━━\u001b[0m\u001b[37m\u001b[0m \u001b[1m0s\u001b[0m 4ms/step - accuracy: 0.3441 - loss: 1.2511 - val_accuracy: 0.3425 - val_loss: 1.2593\n",
      "Epoch 8/20\n",
      "\u001b[1m46/46\u001b[0m \u001b[32m━━━━━━━━━━━━━━━━━━━━\u001b[0m\u001b[37m\u001b[0m \u001b[1m0s\u001b[0m 5ms/step - accuracy: 0.3317 - loss: 1.2445 - val_accuracy: 0.3425 - val_loss: 1.2562\n",
      "Epoch 9/20\n",
      "\u001b[1m46/46\u001b[0m \u001b[32m━━━━━━━━━━━━━━━━━━━━\u001b[0m\u001b[37m\u001b[0m \u001b[1m0s\u001b[0m 4ms/step - accuracy: 0.3372 - loss: 1.2393 - val_accuracy: 0.3425 - val_loss: 1.2555\n",
      "Epoch 10/20\n",
      "\u001b[1m46/46\u001b[0m \u001b[32m━━━━━━━━━━━━━━━━━━━━\u001b[0m\u001b[37m\u001b[0m \u001b[1m0s\u001b[0m 5ms/step - accuracy: 0.3310 - loss: 1.2392 - val_accuracy: 0.3425 - val_loss: 1.2556\n",
      "Epoch 11/20\n",
      "\u001b[1m46/46\u001b[0m \u001b[32m━━━━━━━━━━━━━━━━━━━━\u001b[0m\u001b[37m\u001b[0m \u001b[1m0s\u001b[0m 4ms/step - accuracy: 0.3537 - loss: 1.2386 - val_accuracy: 0.3425 - val_loss: 1.2558\n",
      "Epoch 12/20\n",
      "\u001b[1m46/46\u001b[0m \u001b[32m━━━━━━━━━━━━━━━━━━━━\u001b[0m\u001b[37m\u001b[0m \u001b[1m0s\u001b[0m 4ms/step - accuracy: 0.3455 - loss: 1.2381 - val_accuracy: 0.3425 - val_loss: 1.2561\n",
      "Epoch 13/20\n",
      "\u001b[1m46/46\u001b[0m \u001b[32m━━━━━━━━━━━━━━━━━━━━\u001b[0m\u001b[37m\u001b[0m \u001b[1m0s\u001b[0m 4ms/step - accuracy: 0.3523 - loss: 1.2389 - val_accuracy: 0.3425 - val_loss: 1.2559\n",
      "Epoch 14/20\n",
      "\u001b[1m46/46\u001b[0m \u001b[32m━━━━━━━━━━━━━━━━━━━━\u001b[0m\u001b[37m\u001b[0m \u001b[1m0s\u001b[0m 4ms/step - accuracy: 0.3400 - loss: 1.2362 - val_accuracy: 0.3425 - val_loss: 1.2558\n",
      "Epoch 15/20\n",
      "\u001b[1m46/46\u001b[0m \u001b[32m━━━━━━━━━━━━━━━━━━━━\u001b[0m\u001b[37m\u001b[0m \u001b[1m0s\u001b[0m 5ms/step - accuracy: 0.3297 - loss: 1.2389 - val_accuracy: 0.3425 - val_loss: 1.2559\n",
      "Epoch 16/20\n",
      "\u001b[1m46/46\u001b[0m \u001b[32m━━━━━━━━━━━━━━━━━━━━\u001b[0m\u001b[37m\u001b[0m \u001b[1m0s\u001b[0m 5ms/step - accuracy: 0.3255 - loss: 1.2396 - val_accuracy: 0.3425 - val_loss: 1.2561\n",
      "Epoch 17/20\n",
      "\u001b[1m46/46\u001b[0m \u001b[32m━━━━━━━━━━━━━━━━━━━━\u001b[0m\u001b[37m\u001b[0m \u001b[1m0s\u001b[0m 5ms/step - accuracy: 0.3448 - loss: 1.2374 - val_accuracy: 0.3425 - val_loss: 1.2559\n",
      "Epoch 18/20\n",
      "\u001b[1m46/46\u001b[0m \u001b[32m━━━━━━━━━━━━━━━━━━━━\u001b[0m\u001b[37m\u001b[0m \u001b[1m0s\u001b[0m 5ms/step - accuracy: 0.3221 - loss: 1.2402 - val_accuracy: 0.3425 - val_loss: 1.2560\n",
      "Epoch 19/20\n",
      "\u001b[1m46/46\u001b[0m \u001b[32m━━━━━━━━━━━━━━━━━━━━\u001b[0m\u001b[37m\u001b[0m \u001b[1m0s\u001b[0m 5ms/step - accuracy: 0.3427 - loss: 1.2360 - val_accuracy: 0.3425 - val_loss: 1.2558\n",
      "Epoch 20/20\n",
      "\u001b[1m46/46\u001b[0m \u001b[32m━━━━━━━━━━━━━━━━━━━━\u001b[0m\u001b[37m\u001b[0m \u001b[1m0s\u001b[0m 6ms/step - accuracy: 0.3249 - loss: 1.2381 - val_accuracy: 0.3425 - val_loss: 1.2559\n"
     ]
    },
    {
     "data": {
      "text/plain": [
       "<keras.src.callbacks.history.History at 0x1e9855c56c0>"
      ]
     },
     "execution_count": 39,
     "metadata": {},
     "output_type": "execute_result"
    }
   ],
   "source": [
    "from tensorflow.keras.models import Sequential\n",
    "from tensorflow.keras.layers import Dense, Dropout\n",
    "from tensorflow.keras.utils import to_categorical\n",
    "\n",
    "# Giả sử X đã flatten và normalize [0,1], y đã encode\n",
    "y_cat = to_categorical(y, num_classes=len(le.classes_))\n",
    "\n",
    "# MLP với Dropout cơ bản\n",
    "model = Sequential([\n",
    "    Dense(128, activation='relu', input_shape=(X.shape[1],)),\n",
    "    Dropout(0.3),\n",
    "    Dense(64, activation='relu'),\n",
    "    Dropout(0.3),\n",
    "    Dense(len(le.classes_), activation='softmax')\n",
    "])\n",
    "\n",
    "model.compile(optimizer='adam', loss='categorical_crossentropy', metrics=['accuracy'])\n",
    "model.fit(X, y_cat, epochs=20, batch_size=32, validation_split=0.2)"
   ]
  },
  {
   "cell_type": "markdown",
   "id": "a689d488-204c-4bde-af25-5897ba76753e",
   "metadata": {},
   "source": [
    "#### Multi layer (chọn tầng hiệu quả)"
   ]
  },
  {
   "cell_type": "code",
   "execution_count": 40,
   "id": "99304f11-44e1-4d7a-b67a-d6ae41a54ec5",
   "metadata": {},
   "outputs": [],
   "source": [
    "from sklearn.neural_network import MLPClassifier\n",
    "from sklearn.metrics import classification_report\n",
    "from sklearn.model_selection import train_test_split\n",
    "\n",
    "# Giả sử X, y đã chuẩn bị sẵn\n",
    "X_train, X_val, y_train, y_val = train_test_split(X, y, test_size=0.2, random_state=42, stratify=y)"
   ]
  },
  {
   "cell_type": "code",
   "execution_count": 41,
   "id": "f3a8194c-f815-4b45-b07a-878153fd7cde",
   "metadata": {
    "collapsed": true,
    "jupyter": {
     "outputs_hidden": true
    }
   },
   "outputs": [
    {
     "name": "stdout",
     "output_type": "stream",
     "text": [
      "MLP 1 hidden layer:\n",
      "                   precision    recall  f1-score   support\n",
      "\n",
      "          healthy       0.38      0.51      0.44       103\n",
      "multiple_diseases       0.06      0.06      0.06        18\n",
      "             rust       0.40      0.26      0.32       125\n",
      "             scab       0.33      0.34      0.34       119\n",
      "\n",
      "         accuracy                           0.35       365\n",
      "        macro avg       0.29      0.29      0.29       365\n",
      "     weighted avg       0.35      0.35      0.34       365\n",
      "\n"
     ]
    },
    {
     "name": "stderr",
     "output_type": "stream",
     "text": [
      "C:\\Users\\hilda\\anaconda3\\envs\\myenv\\lib\\site-packages\\sklearn\\neural_network\\_multilayer_perceptron.py:781: ConvergenceWarning: Stochastic Optimizer: Maximum iterations (200) reached and the optimization hasn't converged yet.\n",
      "  warnings.warn(\n"
     ]
    }
   ],
   "source": [
    "#1 tầng\n",
    "mlp1 = MLPClassifier(hidden_layer_sizes=(64,), max_iter=200, random_state=42)\n",
    "mlp1.fit(X_train, y_train)\n",
    "y_pred1 = mlp1.predict(X_val)\n",
    "print(\"MLP 1 hidden layer:\")\n",
    "print(classification_report(y_val, y_pred1, target_names=le.classes_))"
   ]
  },
  {
   "cell_type": "code",
   "execution_count": 42,
   "id": "5121d292-c6c0-49a9-a5e2-a4611bc718dd",
   "metadata": {
    "collapsed": true,
    "jupyter": {
     "outputs_hidden": true
    }
   },
   "outputs": [
    {
     "name": "stdout",
     "output_type": "stream",
     "text": [
      "MLP 2 hidden layers:\n",
      "                   precision    recall  f1-score   support\n",
      "\n",
      "          healthy       0.31      0.72      0.43       103\n",
      "multiple_diseases       0.00      0.00      0.00        18\n",
      "             rust       0.40      0.05      0.09       125\n",
      "             scab       0.31      0.29      0.30       119\n",
      "\n",
      "         accuracy                           0.31       365\n",
      "        macro avg       0.26      0.26      0.20       365\n",
      "     weighted avg       0.33      0.31      0.25       365\n",
      "\n"
     ]
    }
   ],
   "source": [
    "#2 tầng\n",
    "mlp2 = MLPClassifier(hidden_layer_sizes=(128,64), max_iter=200, random_state=42)\n",
    "mlp2.fit(X_train, y_train)\n",
    "y_pred2 = mlp2.predict(X_val)\n",
    "print(\"MLP 2 hidden layers:\")\n",
    "print(classification_report(y_val, y_pred2, target_names=le.classes_))"
   ]
  },
  {
   "cell_type": "code",
   "execution_count": 43,
   "id": "9f1879a9-d055-4de1-baad-e0c5b506c8cc",
   "metadata": {
    "collapsed": true,
    "jupyter": {
     "outputs_hidden": true
    }
   },
   "outputs": [
    {
     "name": "stdout",
     "output_type": "stream",
     "text": [
      "MLP 3 hidden layers:\n",
      "                   precision    recall  f1-score   support\n",
      "\n",
      "          healthy       0.64      0.09      0.15       103\n",
      "multiple_diseases       0.00      0.00      0.00        18\n",
      "             rust       0.35      0.07      0.12       125\n",
      "             scab       0.34      0.92      0.49       119\n",
      "\n",
      "         accuracy                           0.35       365\n",
      "        macro avg       0.33      0.27      0.19       365\n",
      "     weighted avg       0.41      0.35      0.25       365\n",
      "\n"
     ]
    }
   ],
   "source": [
    "mlp3 = MLPClassifier(hidden_layer_sizes=(128,64,32), max_iter=200, random_state=42)\n",
    "mlp3.fit(X_train, y_train)\n",
    "y_pred3 = mlp3.predict(X_val)\n",
    "print(\"MLP 3 hidden layers:\")\n",
    "print(classification_report(y_val, y_pred3, target_names=le.classes_))"
   ]
  },
  {
   "cell_type": "markdown",
   "id": "3fe07de3-107f-49a7-809a-a91fb10921e7",
   "metadata": {},
   "source": [
    "# Tensor"
   ]
  },
  {
   "cell_type": "markdown",
   "id": "ca5f0aab-3973-4f25-be97-f57dd2cd0277",
   "metadata": {},
   "source": [
    "### CNN"
   ]
  },
  {
   "cell_type": "code",
   "execution_count": 44,
   "id": "cda5e7f9-9ccd-4af6-8188-24c5432f1dc0",
   "metadata": {},
   "outputs": [],
   "source": [
    "from tensorflow.keras.models import Sequential\n",
    "from tensorflow.keras.layers import Conv2D, MaxPooling2D, Flatten, Dense, Dropout\n",
    "\n",
    "# X reshape về 2D cho CNN\n",
    "X_cnn = X.reshape(-1, IMG_SIZE, IMG_SIZE, 1)  # dùng lại X đã chuẩn hóa\n",
    "y_cat = to_categorical(y, num_classes=len(le.classes_))"
   ]
  },
  {
   "cell_type": "code",
   "execution_count": 45,
   "id": "0b307821-2c20-47c4-b244-f22ec8173494",
   "metadata": {
    "collapsed": true,
    "jupyter": {
     "outputs_hidden": true
    }
   },
   "outputs": [
    {
     "name": "stdout",
     "output_type": "stream",
     "text": [
      "Epoch 1/20\n"
     ]
    },
    {
     "name": "stderr",
     "output_type": "stream",
     "text": [
      "C:\\Users\\hilda\\anaconda3\\envs\\myenv\\lib\\site-packages\\keras\\src\\layers\\convolutional\\base_conv.py:113: UserWarning: Do not pass an `input_shape`/`input_dim` argument to a layer. When using Sequential models, prefer using an `Input(shape)` object as the first layer in the model instead.\n",
      "  super().__init__(activity_regularizer=activity_regularizer, **kwargs)\n"
     ]
    },
    {
     "name": "stdout",
     "output_type": "stream",
     "text": [
      "\u001b[1m46/46\u001b[0m \u001b[32m━━━━━━━━━━━━━━━━━━━━\u001b[0m\u001b[37m\u001b[0m \u001b[1m2s\u001b[0m 30ms/step - accuracy: 0.3338 - loss: 1.2915 - val_accuracy: 0.3425 - val_loss: 1.2609\n",
      "Epoch 2/20\n",
      "\u001b[1m46/46\u001b[0m \u001b[32m━━━━━━━━━━━━━━━━━━━━\u001b[0m\u001b[37m\u001b[0m \u001b[1m1s\u001b[0m 27ms/step - accuracy: 0.3393 - loss: 1.2473 - val_accuracy: 0.4247 - val_loss: 1.2598\n",
      "Epoch 3/20\n",
      "\u001b[1m46/46\u001b[0m \u001b[32m━━━━━━━━━━━━━━━━━━━━\u001b[0m\u001b[37m\u001b[0m \u001b[1m1s\u001b[0m 26ms/step - accuracy: 0.3709 - loss: 1.2284 - val_accuracy: 0.3342 - val_loss: 1.2527\n",
      "Epoch 4/20\n",
      "\u001b[1m46/46\u001b[0m \u001b[32m━━━━━━━━━━━━━━━━━━━━\u001b[0m\u001b[37m\u001b[0m \u001b[1m1s\u001b[0m 27ms/step - accuracy: 0.3942 - loss: 1.2138 - val_accuracy: 0.4192 - val_loss: 1.2249\n",
      "Epoch 5/20\n",
      "\u001b[1m46/46\u001b[0m \u001b[32m━━━━━━━━━━━━━━━━━━━━\u001b[0m\u001b[37m\u001b[0m \u001b[1m1s\u001b[0m 26ms/step - accuracy: 0.4238 - loss: 1.1999 - val_accuracy: 0.3479 - val_loss: 1.2419\n",
      "Epoch 6/20\n",
      "\u001b[1m46/46\u001b[0m \u001b[32m━━━━━━━━━━━━━━━━━━━━\u001b[0m\u001b[37m\u001b[0m \u001b[1m1s\u001b[0m 27ms/step - accuracy: 0.4471 - loss: 1.1763 - val_accuracy: 0.4466 - val_loss: 1.1871\n",
      "Epoch 7/20\n",
      "\u001b[1m46/46\u001b[0m \u001b[32m━━━━━━━━━━━━━━━━━━━━\u001b[0m\u001b[37m\u001b[0m \u001b[1m1s\u001b[0m 26ms/step - accuracy: 0.4746 - loss: 1.1402 - val_accuracy: 0.4493 - val_loss: 1.1921\n",
      "Epoch 8/20\n",
      "\u001b[1m46/46\u001b[0m \u001b[32m━━━━━━━━━━━━━━━━━━━━\u001b[0m\u001b[37m\u001b[0m \u001b[1m1s\u001b[0m 25ms/step - accuracy: 0.5220 - loss: 1.0902 - val_accuracy: 0.4575 - val_loss: 1.1632\n",
      "Epoch 9/20\n",
      "\u001b[1m46/46\u001b[0m \u001b[32m━━━━━━━━━━━━━━━━━━━━\u001b[0m\u001b[37m\u001b[0m \u001b[1m1s\u001b[0m 25ms/step - accuracy: 0.5316 - loss: 1.0550 - val_accuracy: 0.4767 - val_loss: 1.1569\n",
      "Epoch 10/20\n",
      "\u001b[1m46/46\u001b[0m \u001b[32m━━━━━━━━━━━━━━━━━━━━\u001b[0m\u001b[37m\u001b[0m \u001b[1m1s\u001b[0m 26ms/step - accuracy: 0.5749 - loss: 1.0037 - val_accuracy: 0.4521 - val_loss: 1.1696\n",
      "Epoch 11/20\n",
      "\u001b[1m46/46\u001b[0m \u001b[32m━━━━━━━━━━━━━━━━━━━━\u001b[0m\u001b[37m\u001b[0m \u001b[1m1s\u001b[0m 26ms/step - accuracy: 0.6133 - loss: 0.9438 - val_accuracy: 0.4712 - val_loss: 1.1572\n",
      "Epoch 12/20\n",
      "\u001b[1m46/46\u001b[0m \u001b[32m━━━━━━━━━━━━━━━━━━━━\u001b[0m\u001b[37m\u001b[0m \u001b[1m1s\u001b[0m 26ms/step - accuracy: 0.6291 - loss: 0.9020 - val_accuracy: 0.4740 - val_loss: 1.1816\n",
      "Epoch 13/20\n",
      "\u001b[1m46/46\u001b[0m \u001b[32m━━━━━━━━━━━━━━━━━━━━\u001b[0m\u001b[37m\u001b[0m \u001b[1m1s\u001b[0m 26ms/step - accuracy: 0.6456 - loss: 0.8539 - val_accuracy: 0.4548 - val_loss: 1.2396\n",
      "Epoch 14/20\n",
      "\u001b[1m46/46\u001b[0m \u001b[32m━━━━━━━━━━━━━━━━━━━━\u001b[0m\u001b[37m\u001b[0m \u001b[1m1s\u001b[0m 28ms/step - accuracy: 0.6951 - loss: 0.7699 - val_accuracy: 0.4411 - val_loss: 1.2421\n",
      "Epoch 15/20\n",
      "\u001b[1m46/46\u001b[0m \u001b[32m━━━━━━━━━━━━━━━━━━━━\u001b[0m\u001b[37m\u001b[0m \u001b[1m1s\u001b[0m 26ms/step - accuracy: 0.7102 - loss: 0.7016 - val_accuracy: 0.4493 - val_loss: 1.2670\n",
      "Epoch 16/20\n",
      "\u001b[1m46/46\u001b[0m \u001b[32m━━━━━━━━━━━━━━━━━━━━\u001b[0m\u001b[37m\u001b[0m \u001b[1m1s\u001b[0m 27ms/step - accuracy: 0.7342 - loss: 0.6607 - val_accuracy: 0.4630 - val_loss: 1.3252\n",
      "Epoch 17/20\n",
      "\u001b[1m46/46\u001b[0m \u001b[32m━━━━━━━━━━━━━━━━━━━━\u001b[0m\u001b[37m\u001b[0m \u001b[1m1s\u001b[0m 26ms/step - accuracy: 0.7637 - loss: 0.6002 - val_accuracy: 0.4219 - val_loss: 1.3850\n",
      "Epoch 18/20\n",
      "\u001b[1m46/46\u001b[0m \u001b[32m━━━━━━━━━━━━━━━━━━━━\u001b[0m\u001b[37m\u001b[0m \u001b[1m1s\u001b[0m 26ms/step - accuracy: 0.7974 - loss: 0.5182 - val_accuracy: 0.4411 - val_loss: 1.4459\n",
      "Epoch 19/20\n",
      "\u001b[1m46/46\u001b[0m \u001b[32m━━━━━━━━━━━━━━━━━━━━\u001b[0m\u001b[37m\u001b[0m \u001b[1m1s\u001b[0m 25ms/step - accuracy: 0.8125 - loss: 0.4919 - val_accuracy: 0.4685 - val_loss: 1.4961\n",
      "Epoch 20/20\n",
      "\u001b[1m46/46\u001b[0m \u001b[32m━━━━━━━━━━━━━━━━━━━━\u001b[0m\u001b[37m\u001b[0m \u001b[1m1s\u001b[0m 26ms/step - accuracy: 0.8365 - loss: 0.4438 - val_accuracy: 0.4493 - val_loss: 1.5597\n"
     ]
    },
    {
     "data": {
      "text/plain": [
       "<keras.src.callbacks.history.History at 0x1e9877d0fa0>"
      ]
     },
     "execution_count": 45,
     "metadata": {},
     "output_type": "execute_result"
    }
   ],
   "source": [
    "cnn_model = Sequential([\n",
    "    Conv2D(32, kernel_size=(3,3), activation='relu', input_shape=(IMG_SIZE, IMG_SIZE, 1)),\n",
    "    MaxPooling2D(pool_size=(2,2)),\n",
    "    Dropout(0.25),\n",
    "    \n",
    "    Conv2D(64, kernel_size=(3,3), activation='relu'),\n",
    "    MaxPooling2D(pool_size=(2,2)),\n",
    "    Dropout(0.25),\n",
    "    \n",
    "    Flatten(),\n",
    "    Dense(128, activation='relu'),\n",
    "    Dropout(0.5),\n",
    "    Dense(len(le.classes_), activation='softmax')\n",
    "])\n",
    "\n",
    "cnn_model.compile(optimizer='adam', loss='categorical_crossentropy', metrics=['accuracy'])\n",
    "\n",
    "cnn_model.fit(X_cnn, y_cat, epochs=20, batch_size=32, validation_split=0.2)"
   ]
  },
  {
   "cell_type": "markdown",
   "id": "5d6dab1d-82e3-4afe-9972-4c88ae854796",
   "metadata": {},
   "source": [
    "### MLP"
   ]
  },
  {
   "cell_type": "code",
   "execution_count": 52,
   "id": "fd2e7367-57a7-4871-b262-31999b09d08c",
   "metadata": {
    "scrolled": true
   },
   "outputs": [
    {
     "data": {
      "text/html": [
       "<pre style=\"white-space:pre;overflow-x:auto;line-height:normal;font-family:Menlo,'DejaVu Sans Mono',consolas,'Courier New',monospace\"><span style=\"font-weight: bold\">Model: \"sequential_9\"</span>\n",
       "</pre>\n"
      ],
      "text/plain": [
       "\u001b[1mModel: \"sequential_9\"\u001b[0m\n"
      ]
     },
     "metadata": {},
     "output_type": "display_data"
    },
    {
     "data": {
      "text/html": [
       "<pre style=\"white-space:pre;overflow-x:auto;line-height:normal;font-family:Menlo,'DejaVu Sans Mono',consolas,'Courier New',monospace\">┏━━━━━━━━━━━━━━━━━━━━━━━━━━━━━━━━━━━━━━┳━━━━━━━━━━━━━━━━━━━━━━━━━━━━━┳━━━━━━━━━━━━━━━━━┓\n",
       "┃<span style=\"font-weight: bold\"> Layer (type)                         </span>┃<span style=\"font-weight: bold\"> Output Shape                </span>┃<span style=\"font-weight: bold\">         Param # </span>┃\n",
       "┡━━━━━━━━━━━━━━━━━━━━━━━━━━━━━━━━━━━━━━╇━━━━━━━━━━━━━━━━━━━━━━━━━━━━━╇━━━━━━━━━━━━━━━━━┩\n",
       "│ dense_26 (<span style=\"color: #0087ff; text-decoration-color: #0087ff\">Dense</span>)                     │ (<span style=\"color: #00d7ff; text-decoration-color: #00d7ff\">None</span>, <span style=\"color: #00af00; text-decoration-color: #00af00\">128</span>)                 │         <span style=\"color: #00af00; text-decoration-color: #00af00\">524,416</span> │\n",
       "├──────────────────────────────────────┼─────────────────────────────┼─────────────────┤\n",
       "│ dense_27 (<span style=\"color: #0087ff; text-decoration-color: #0087ff\">Dense</span>)                     │ (<span style=\"color: #00d7ff; text-decoration-color: #00d7ff\">None</span>, <span style=\"color: #00af00; text-decoration-color: #00af00\">64</span>)                  │           <span style=\"color: #00af00; text-decoration-color: #00af00\">8,256</span> │\n",
       "├──────────────────────────────────────┼─────────────────────────────┼─────────────────┤\n",
       "│ dense_28 (<span style=\"color: #0087ff; text-decoration-color: #0087ff\">Dense</span>)                     │ (<span style=\"color: #00d7ff; text-decoration-color: #00d7ff\">None</span>, <span style=\"color: #00af00; text-decoration-color: #00af00\">4</span>)                   │             <span style=\"color: #00af00; text-decoration-color: #00af00\">260</span> │\n",
       "└──────────────────────────────────────┴─────────────────────────────┴─────────────────┘\n",
       "</pre>\n"
      ],
      "text/plain": [
       "┏━━━━━━━━━━━━━━━━━━━━━━━━━━━━━━━━━━━━━━┳━━━━━━━━━━━━━━━━━━━━━━━━━━━━━┳━━━━━━━━━━━━━━━━━┓\n",
       "┃\u001b[1m \u001b[0m\u001b[1mLayer (type)                        \u001b[0m\u001b[1m \u001b[0m┃\u001b[1m \u001b[0m\u001b[1mOutput Shape               \u001b[0m\u001b[1m \u001b[0m┃\u001b[1m \u001b[0m\u001b[1m        Param #\u001b[0m\u001b[1m \u001b[0m┃\n",
       "┡━━━━━━━━━━━━━━━━━━━━━━━━━━━━━━━━━━━━━━╇━━━━━━━━━━━━━━━━━━━━━━━━━━━━━╇━━━━━━━━━━━━━━━━━┩\n",
       "│ dense_26 (\u001b[38;5;33mDense\u001b[0m)                     │ (\u001b[38;5;45mNone\u001b[0m, \u001b[38;5;34m128\u001b[0m)                 │         \u001b[38;5;34m524,416\u001b[0m │\n",
       "├──────────────────────────────────────┼─────────────────────────────┼─────────────────┤\n",
       "│ dense_27 (\u001b[38;5;33mDense\u001b[0m)                     │ (\u001b[38;5;45mNone\u001b[0m, \u001b[38;5;34m64\u001b[0m)                  │           \u001b[38;5;34m8,256\u001b[0m │\n",
       "├──────────────────────────────────────┼─────────────────────────────┼─────────────────┤\n",
       "│ dense_28 (\u001b[38;5;33mDense\u001b[0m)                     │ (\u001b[38;5;45mNone\u001b[0m, \u001b[38;5;34m4\u001b[0m)                   │             \u001b[38;5;34m260\u001b[0m │\n",
       "└──────────────────────────────────────┴─────────────────────────────┴─────────────────┘\n"
      ]
     },
     "metadata": {},
     "output_type": "display_data"
    },
    {
     "data": {
      "text/html": [
       "<pre style=\"white-space:pre;overflow-x:auto;line-height:normal;font-family:Menlo,'DejaVu Sans Mono',consolas,'Courier New',monospace\"><span style=\"font-weight: bold\"> Total params: </span><span style=\"color: #00af00; text-decoration-color: #00af00\">532,932</span> (2.03 MB)\n",
       "</pre>\n"
      ],
      "text/plain": [
       "\u001b[1m Total params: \u001b[0m\u001b[38;5;34m532,932\u001b[0m (2.03 MB)\n"
      ]
     },
     "metadata": {},
     "output_type": "display_data"
    },
    {
     "data": {
      "text/html": [
       "<pre style=\"white-space:pre;overflow-x:auto;line-height:normal;font-family:Menlo,'DejaVu Sans Mono',consolas,'Courier New',monospace\"><span style=\"font-weight: bold\"> Trainable params: </span><span style=\"color: #00af00; text-decoration-color: #00af00\">532,932</span> (2.03 MB)\n",
       "</pre>\n"
      ],
      "text/plain": [
       "\u001b[1m Trainable params: \u001b[0m\u001b[38;5;34m532,932\u001b[0m (2.03 MB)\n"
      ]
     },
     "metadata": {},
     "output_type": "display_data"
    },
    {
     "data": {
      "text/html": [
       "<pre style=\"white-space:pre;overflow-x:auto;line-height:normal;font-family:Menlo,'DejaVu Sans Mono',consolas,'Courier New',monospace\"><span style=\"font-weight: bold\"> Non-trainable params: </span><span style=\"color: #00af00; text-decoration-color: #00af00\">0</span> (0.00 B)\n",
       "</pre>\n"
      ],
      "text/plain": [
       "\u001b[1m Non-trainable params: \u001b[0m\u001b[38;5;34m0\u001b[0m (0.00 B)\n"
      ]
     },
     "metadata": {},
     "output_type": "display_data"
    },
    {
     "name": "stdout",
     "output_type": "stream",
     "text": [
      "Epoch 1/20\n",
      "\u001b[1m46/46\u001b[0m \u001b[32m━━━━━━━━━━━━━━━━━━━━\u001b[0m\u001b[37m\u001b[0m \u001b[1m1s\u001b[0m 7ms/step - accuracy: 0.3290 - loss: 1.3796 - val_accuracy: 0.3068 - val_loss: 1.2917\n",
      "Epoch 2/20\n",
      "\u001b[1m46/46\u001b[0m \u001b[32m━━━━━━━━━━━━━━━━━━━━\u001b[0m\u001b[37m\u001b[0m \u001b[1m0s\u001b[0m 4ms/step - accuracy: 0.3496 - loss: 1.2621 - val_accuracy: 0.3644 - val_loss: 1.2664\n",
      "Epoch 3/20\n",
      "\u001b[1m46/46\u001b[0m \u001b[32m━━━━━━━━━━━━━━━━━━━━\u001b[0m\u001b[37m\u001b[0m \u001b[1m0s\u001b[0m 4ms/step - accuracy: 0.3482 - loss: 1.2745 - val_accuracy: 0.3699 - val_loss: 1.2423\n",
      "Epoch 4/20\n",
      "\u001b[1m46/46\u001b[0m \u001b[32m━━━━━━━━━━━━━━━━━━━━\u001b[0m\u001b[37m\u001b[0m \u001b[1m0s\u001b[0m 4ms/step - accuracy: 0.3949 - loss: 1.2199 - val_accuracy: 0.3315 - val_loss: 1.3214\n",
      "Epoch 5/20\n",
      "\u001b[1m46/46\u001b[0m \u001b[32m━━━━━━━━━━━━━━━━━━━━\u001b[0m\u001b[37m\u001b[0m \u001b[1m0s\u001b[0m 4ms/step - accuracy: 0.4011 - loss: 1.2140 - val_accuracy: 0.3534 - val_loss: 1.2950\n",
      "Epoch 6/20\n",
      "\u001b[1m46/46\u001b[0m \u001b[32m━━━━━━━━━━━━━━━━━━━━\u001b[0m\u001b[37m\u001b[0m \u001b[1m0s\u001b[0m 4ms/step - accuracy: 0.4299 - loss: 1.1986 - val_accuracy: 0.3589 - val_loss: 1.2667\n",
      "Epoch 7/20\n",
      "\u001b[1m46/46\u001b[0m \u001b[32m━━━━━━━━━━━━━━━━━━━━\u001b[0m\u001b[37m\u001b[0m \u001b[1m0s\u001b[0m 4ms/step - accuracy: 0.4004 - loss: 1.2112 - val_accuracy: 0.3452 - val_loss: 1.2780\n",
      "Epoch 8/20\n",
      "\u001b[1m46/46\u001b[0m \u001b[32m━━━━━━━━━━━━━━━━━━━━\u001b[0m\u001b[37m\u001b[0m \u001b[1m0s\u001b[0m 4ms/step - accuracy: 0.4100 - loss: 1.1904 - val_accuracy: 0.3671 - val_loss: 1.2940\n",
      "Epoch 9/20\n",
      "\u001b[1m46/46\u001b[0m \u001b[32m━━━━━━━━━━━━━━━━━━━━\u001b[0m\u001b[37m\u001b[0m \u001b[1m0s\u001b[0m 5ms/step - accuracy: 0.4320 - loss: 1.1868 - val_accuracy: 0.3562 - val_loss: 1.2917\n",
      "Epoch 10/20\n",
      "\u001b[1m46/46\u001b[0m \u001b[32m━━━━━━━━━━━━━━━━━━━━\u001b[0m\u001b[37m\u001b[0m \u001b[1m0s\u001b[0m 4ms/step - accuracy: 0.4416 - loss: 1.1872 - val_accuracy: 0.3562 - val_loss: 1.2839\n",
      "Epoch 11/20\n",
      "\u001b[1m46/46\u001b[0m \u001b[32m━━━━━━━━━━━━━━━━━━━━\u001b[0m\u001b[37m\u001b[0m \u001b[1m0s\u001b[0m 4ms/step - accuracy: 0.4361 - loss: 1.1700 - val_accuracy: 0.3425 - val_loss: 1.2716\n",
      "Epoch 12/20\n",
      "\u001b[1m46/46\u001b[0m \u001b[32m━━━━━━━━━━━━━━━━━━━━\u001b[0m\u001b[37m\u001b[0m \u001b[1m0s\u001b[0m 4ms/step - accuracy: 0.4705 - loss: 1.1434 - val_accuracy: 0.3562 - val_loss: 1.2828\n",
      "Epoch 13/20\n",
      "\u001b[1m46/46\u001b[0m \u001b[32m━━━━━━━━━━━━━━━━━━━━\u001b[0m\u001b[37m\u001b[0m \u001b[1m0s\u001b[0m 5ms/step - accuracy: 0.4650 - loss: 1.1548 - val_accuracy: 0.3452 - val_loss: 1.2864\n",
      "Epoch 14/20\n",
      "\u001b[1m46/46\u001b[0m \u001b[32m━━━━━━━━━━━━━━━━━━━━\u001b[0m\u001b[37m\u001b[0m \u001b[1m0s\u001b[0m 4ms/step - accuracy: 0.4691 - loss: 1.1388 - val_accuracy: 0.3671 - val_loss: 1.2876\n",
      "Epoch 15/20\n",
      "\u001b[1m46/46\u001b[0m \u001b[32m━━━━━━━━━━━━━━━━━━━━\u001b[0m\u001b[37m\u001b[0m \u001b[1m0s\u001b[0m 4ms/step - accuracy: 0.4794 - loss: 1.1372 - val_accuracy: 0.3562 - val_loss: 1.3349\n",
      "Epoch 16/20\n",
      "\u001b[1m46/46\u001b[0m \u001b[32m━━━━━━━━━━━━━━━━━━━━\u001b[0m\u001b[37m\u001b[0m \u001b[1m0s\u001b[0m 4ms/step - accuracy: 0.4938 - loss: 1.1123 - val_accuracy: 0.3507 - val_loss: 1.2732\n",
      "Epoch 17/20\n",
      "\u001b[1m46/46\u001b[0m \u001b[32m━━━━━━━━━━━━━━━━━━━━\u001b[0m\u001b[37m\u001b[0m \u001b[1m0s\u001b[0m 5ms/step - accuracy: 0.4808 - loss: 1.1246 - val_accuracy: 0.3562 - val_loss: 1.3237\n",
      "Epoch 18/20\n",
      "\u001b[1m46/46\u001b[0m \u001b[32m━━━━━━━━━━━━━━━━━━━━\u001b[0m\u001b[37m\u001b[0m \u001b[1m0s\u001b[0m 5ms/step - accuracy: 0.4485 - loss: 1.1716 - val_accuracy: 0.3644 - val_loss: 1.2592\n",
      "Epoch 19/20\n",
      "\u001b[1m46/46\u001b[0m \u001b[32m━━━━━━━━━━━━━━━━━━━━\u001b[0m\u001b[37m\u001b[0m \u001b[1m0s\u001b[0m 4ms/step - accuracy: 0.5103 - loss: 1.0917 - val_accuracy: 0.3671 - val_loss: 1.3152\n",
      "Epoch 20/20\n",
      "\u001b[1m46/46\u001b[0m \u001b[32m━━━━━━━━━━━━━━━━━━━━\u001b[0m\u001b[37m\u001b[0m \u001b[1m0s\u001b[0m 5ms/step - accuracy: 0.4821 - loss: 1.1286 - val_accuracy: 0.3562 - val_loss: 1.2685\n",
      "\u001b[1m57/57\u001b[0m \u001b[32m━━━━━━━━━━━━━━━━━━━━\u001b[0m\u001b[37m\u001b[0m \u001b[1m0s\u001b[0m 2ms/step\n"
     ]
    }
   ],
   "source": [
    "from tensorflow.keras.models import Sequential\n",
    "from tensorflow.keras.layers import Dense\n",
    "\n",
    "mlp_tensor = Sequential([\n",
    "    Dense(128, activation='relu', input_shape=(X.shape[1],)),\n",
    "    Dense(64, activation='relu'),\n",
    "    Dense(len(le.classes_), activation='softmax')\n",
    "])\n",
    "\n",
    "mlp_tensor.compile(optimizer='adam', loss='categorical_crossentropy', metrics=['accuracy'])\n",
    "\n",
    "mlp_tensor.summary()\n",
    "\n",
    "mlp_tensor.fit(X, y_cat, epochs=20, batch_size=32, validation_split=0.2)\n",
    "\n",
    "y_pred = mlp_tensor.predict(X)\n",
    "y_class = y_pred.argmax(axis=1)   "
   ]
  },
  {
   "cell_type": "markdown",
   "id": "67f8354a-2d9a-4779-a296-02b57f0e3301",
   "metadata": {},
   "source": [
    "#### Overfit"
   ]
  },
  {
   "cell_type": "markdown",
   "id": "f7f444ea-e303-4894-a4b1-ab6715b10599",
   "metadata": {},
   "source": [
    "#### Drop out"
   ]
  },
  {
   "cell_type": "code",
   "execution_count": 58,
   "id": "a70bc44b-0ca6-4139-9c78-a8a7d0e8bbb8",
   "metadata": {},
   "outputs": [],
   "source": [
    "from tensorflow.keras.models import Sequential\n",
    "from tensorflow.keras.layers import Dense, Dropout\n",
    "\n",
    "mlp_tensor = Sequential([\n",
    "    Dense(128, activation='relu', input_shape=(X_scaled.shape[1],)),\n",
    "    Dropout(0.3),\n",
    "    Dense(64, activation='relu'),\n",
    "    Dropout(0.3),\n",
    "    Dense(len(le.classes_), activation='softmax')\n",
    "])\n"
   ]
  },
  {
   "cell_type": "code",
   "execution_count": 59,
   "id": "9af9f406-f712-4d3b-83a5-b074fcdc74e3",
   "metadata": {},
   "outputs": [],
   "source": [
    "mlp_tensor.compile(optimizer='adam', \n",
    "                   loss='categorical_crossentropy', \n",
    "                   metrics=['accuracy'])\n"
   ]
  },
  {
   "cell_type": "code",
   "execution_count": 60,
   "id": "ab262fdd-0edb-4685-99a0-2a78dd0ebea1",
   "metadata": {},
   "outputs": [
    {
     "name": "stdout",
     "output_type": "stream",
     "text": [
      "Epoch 1/50\n",
      "\u001b[1m46/46\u001b[0m \u001b[32m━━━━━━━━━━━━━━━━━━━━\u001b[0m\u001b[37m\u001b[0m \u001b[1m1s\u001b[0m 8ms/step - accuracy: 0.3104 - loss: 2.3234 - val_accuracy: 0.3425 - val_loss: 1.6441\n",
      "Epoch 2/50\n",
      "\u001b[1m46/46\u001b[0m \u001b[32m━━━━━━━━━━━━━━━━━━━━\u001b[0m\u001b[37m\u001b[0m \u001b[1m0s\u001b[0m 5ms/step - accuracy: 0.4155 - loss: 1.6538 - val_accuracy: 0.3123 - val_loss: 1.5154\n",
      "Epoch 3/50\n",
      "\u001b[1m46/46\u001b[0m \u001b[32m━━━━━━━━━━━━━━━━━━━━\u001b[0m\u001b[37m\u001b[0m \u001b[1m0s\u001b[0m 4ms/step - accuracy: 0.4615 - loss: 1.3022 - val_accuracy: 0.4110 - val_loss: 1.3408\n",
      "Epoch 4/50\n",
      "\u001b[1m46/46\u001b[0m \u001b[32m━━━━━━━━━━━━━━━━━━━━\u001b[0m\u001b[37m\u001b[0m \u001b[1m0s\u001b[0m 6ms/step - accuracy: 0.5364 - loss: 1.1310 - val_accuracy: 0.3836 - val_loss: 1.3465\n",
      "Epoch 5/50\n",
      "\u001b[1m46/46\u001b[0m \u001b[32m━━━━━━━━━━━━━━━━━━━━\u001b[0m\u001b[37m\u001b[0m \u001b[1m0s\u001b[0m 4ms/step - accuracy: 0.5515 - loss: 1.0739 - val_accuracy: 0.4521 - val_loss: 1.3197\n",
      "Epoch 6/50\n",
      "\u001b[1m46/46\u001b[0m \u001b[32m━━━━━━━━━━━━━━━━━━━━\u001b[0m\u001b[37m\u001b[0m \u001b[1m0s\u001b[0m 4ms/step - accuracy: 0.5460 - loss: 1.0646 - val_accuracy: 0.3808 - val_loss: 1.3458\n",
      "Epoch 7/50\n",
      "\u001b[1m46/46\u001b[0m \u001b[32m━━━━━━━━━━━━━━━━━━━━\u001b[0m\u001b[37m\u001b[0m \u001b[1m0s\u001b[0m 4ms/step - accuracy: 0.5955 - loss: 0.9364 - val_accuracy: 0.3890 - val_loss: 1.3354\n",
      "Epoch 8/50\n",
      "\u001b[1m46/46\u001b[0m \u001b[32m━━━━━━━━━━━━━━━━━━━━\u001b[0m\u001b[37m\u001b[0m \u001b[1m0s\u001b[0m 4ms/step - accuracy: 0.6229 - loss: 0.8781 - val_accuracy: 0.3973 - val_loss: 1.3863\n",
      "Epoch 9/50\n",
      "\u001b[1m46/46\u001b[0m \u001b[32m━━━━━━━━━━━━━━━━━━━━\u001b[0m\u001b[37m\u001b[0m \u001b[1m0s\u001b[0m 4ms/step - accuracy: 0.6703 - loss: 0.7982 - val_accuracy: 0.3973 - val_loss: 1.4571\n",
      "Epoch 10/50\n",
      "\u001b[1m46/46\u001b[0m \u001b[32m━━━━━━━━━━━━━━━━━━━━\u001b[0m\u001b[37m\u001b[0m \u001b[1m0s\u001b[0m 6ms/step - accuracy: 0.6813 - loss: 0.7752 - val_accuracy: 0.4301 - val_loss: 1.3981\n"
     ]
    },
    {
     "data": {
      "text/plain": [
       "<keras.src.callbacks.history.History at 0x1e984097850>"
      ]
     },
     "execution_count": 60,
     "metadata": {},
     "output_type": "execute_result"
    }
   ],
   "source": [
    "from tensorflow.keras.callbacks import EarlyStopping\n",
    "\n",
    "early_stop = EarlyStopping(monitor='val_loss', patience=5, restore_best_weights=True)\n",
    "\n",
    "mlp_tensor.fit(X_scaled, y_cat, \n",
    "               epochs=50, \n",
    "               batch_size=32, \n",
    "               validation_split=0.2, \n",
    "               callbacks=[early_stop])\n"
   ]
  },
  {
   "cell_type": "markdown",
   "id": "ddf9ae91-579c-4e25-a62b-f7cbf2856c18",
   "metadata": {},
   "source": [
    "#### Multi layer (chọn tầng hiệu quả)"
   ]
  },
  {
   "cell_type": "code",
   "execution_count": 61,
   "id": "9a11252f-4619-478a-bb2c-1ace20d78a08",
   "metadata": {
    "collapsed": true,
    "jupyter": {
     "outputs_hidden": true
    }
   },
   "outputs": [
    {
     "name": "stdout",
     "output_type": "stream",
     "text": [
      "Epoch 1/20\n",
      "\u001b[1m46/46\u001b[0m \u001b[32m━━━━━━━━━━━━━━━━━━━━\u001b[0m\u001b[37m\u001b[0m \u001b[1m1s\u001b[0m 10ms/step - accuracy: 0.3558 - loss: 2.7390 - val_accuracy: 0.3863 - val_loss: 2.6382\n",
      "Epoch 2/20\n",
      "\u001b[1m46/46\u001b[0m \u001b[32m━━━━━━━━━━━━━━━━━━━━\u001b[0m\u001b[37m\u001b[0m \u001b[1m0s\u001b[0m 5ms/step - accuracy: 0.5247 - loss: 1.6542 - val_accuracy: 0.3479 - val_loss: 2.2455\n",
      "Epoch 3/20\n",
      "\u001b[1m46/46\u001b[0m \u001b[32m━━━━━━━━━━━━━━━━━━━━\u001b[0m\u001b[37m\u001b[0m \u001b[1m0s\u001b[0m 5ms/step - accuracy: 0.6250 - loss: 1.1400 - val_accuracy: 0.3890 - val_loss: 2.2221\n",
      "Epoch 4/20\n",
      "\u001b[1m46/46\u001b[0m \u001b[32m━━━━━━━━━━━━━━━━━━━━\u001b[0m\u001b[37m\u001b[0m \u001b[1m0s\u001b[0m 4ms/step - accuracy: 0.7081 - loss: 0.8617 - val_accuracy: 0.3534 - val_loss: 2.3086\n",
      "Epoch 5/20\n",
      "\u001b[1m46/46\u001b[0m \u001b[32m━━━━━━━━━━━━━━━━━━━━\u001b[0m\u001b[37m\u001b[0m \u001b[1m0s\u001b[0m 4ms/step - accuracy: 0.7534 - loss: 0.6702 - val_accuracy: 0.3753 - val_loss: 2.3258\n",
      "Epoch 6/20\n",
      "\u001b[1m46/46\u001b[0m \u001b[32m━━━━━━━━━━━━━━━━━━━━\u001b[0m\u001b[37m\u001b[0m \u001b[1m0s\u001b[0m 4ms/step - accuracy: 0.8049 - loss: 0.5486 - val_accuracy: 0.3562 - val_loss: 2.1885\n",
      "Epoch 7/20\n",
      "\u001b[1m46/46\u001b[0m \u001b[32m━━━━━━━━━━━━━━━━━━━━\u001b[0m\u001b[37m\u001b[0m \u001b[1m0s\u001b[0m 5ms/step - accuracy: 0.8578 - loss: 0.3962 - val_accuracy: 0.3726 - val_loss: 2.5322\n",
      "Epoch 8/20\n",
      "\u001b[1m46/46\u001b[0m \u001b[32m━━━━━━━━━━━━━━━━━━━━\u001b[0m\u001b[37m\u001b[0m \u001b[1m0s\u001b[0m 4ms/step - accuracy: 0.8626 - loss: 0.3619 - val_accuracy: 0.3671 - val_loss: 2.6492\n",
      "Epoch 9/20\n",
      "\u001b[1m46/46\u001b[0m \u001b[32m━━━━━━━━━━━━━━━━━━━━\u001b[0m\u001b[37m\u001b[0m \u001b[1m0s\u001b[0m 4ms/step - accuracy: 0.8688 - loss: 0.3488 - val_accuracy: 0.3534 - val_loss: 2.5158\n",
      "Epoch 10/20\n",
      "\u001b[1m46/46\u001b[0m \u001b[32m━━━━━━━━━━━━━━━━━━━━\u001b[0m\u001b[37m\u001b[0m \u001b[1m0s\u001b[0m 4ms/step - accuracy: 0.8901 - loss: 0.3131 - val_accuracy: 0.3370 - val_loss: 2.8537\n",
      "Epoch 11/20\n",
      "\u001b[1m46/46\u001b[0m \u001b[32m━━━━━━━━━━━━━━━━━━━━\u001b[0m\u001b[37m\u001b[0m \u001b[1m0s\u001b[0m 4ms/step - accuracy: 0.9073 - loss: 0.2747 - val_accuracy: 0.3671 - val_loss: 2.6543\n",
      "Epoch 12/20\n",
      "\u001b[1m46/46\u001b[0m \u001b[32m━━━━━━━━━━━━━━━━━━━━\u001b[0m\u001b[37m\u001b[0m \u001b[1m0s\u001b[0m 4ms/step - accuracy: 0.9231 - loss: 0.2302 - val_accuracy: 0.3616 - val_loss: 2.8139\n",
      "Epoch 13/20\n",
      "\u001b[1m46/46\u001b[0m \u001b[32m━━━━━━━━━━━━━━━━━━━━\u001b[0m\u001b[37m\u001b[0m \u001b[1m0s\u001b[0m 5ms/step - accuracy: 0.9375 - loss: 0.1805 - val_accuracy: 0.3151 - val_loss: 3.0422\n",
      "Epoch 14/20\n",
      "\u001b[1m46/46\u001b[0m \u001b[32m━━━━━━━━━━━━━━━━━━━━\u001b[0m\u001b[37m\u001b[0m \u001b[1m0s\u001b[0m 5ms/step - accuracy: 0.9512 - loss: 0.1653 - val_accuracy: 0.3562 - val_loss: 3.0492\n",
      "Epoch 15/20\n",
      "\u001b[1m46/46\u001b[0m \u001b[32m━━━━━━━━━━━━━━━━━━━━\u001b[0m\u001b[37m\u001b[0m \u001b[1m0s\u001b[0m 4ms/step - accuracy: 0.9595 - loss: 0.1380 - val_accuracy: 0.3397 - val_loss: 2.9842\n",
      "Epoch 16/20\n",
      "\u001b[1m46/46\u001b[0m \u001b[32m━━━━━━━━━━━━━━━━━━━━\u001b[0m\u001b[37m\u001b[0m \u001b[1m0s\u001b[0m 4ms/step - accuracy: 0.9650 - loss: 0.1238 - val_accuracy: 0.3479 - val_loss: 3.0241\n",
      "Epoch 17/20\n",
      "\u001b[1m46/46\u001b[0m \u001b[32m━━━━━━━━━━━━━━━━━━━━\u001b[0m\u001b[37m\u001b[0m \u001b[1m0s\u001b[0m 4ms/step - accuracy: 0.9657 - loss: 0.0971 - val_accuracy: 0.3671 - val_loss: 3.0526\n",
      "Epoch 18/20\n",
      "\u001b[1m46/46\u001b[0m \u001b[32m━━━━━━━━━━━━━━━━━━━━\u001b[0m\u001b[37m\u001b[0m \u001b[1m0s\u001b[0m 5ms/step - accuracy: 0.9663 - loss: 0.1049 - val_accuracy: 0.3479 - val_loss: 3.1658\n",
      "Epoch 19/20\n",
      "\u001b[1m46/46\u001b[0m \u001b[32m━━━━━━━━━━━━━━━━━━━━\u001b[0m\u001b[37m\u001b[0m \u001b[1m0s\u001b[0m 4ms/step - accuracy: 0.9718 - loss: 0.0985 - val_accuracy: 0.3479 - val_loss: 3.3462\n",
      "Epoch 20/20\n",
      "\u001b[1m46/46\u001b[0m \u001b[32m━━━━━━━━━━━━━━━━━━━━\u001b[0m\u001b[37m\u001b[0m \u001b[1m0s\u001b[0m 4ms/step - accuracy: 0.9657 - loss: 0.1089 - val_accuracy: 0.3671 - val_loss: 3.3920\n"
     ]
    }
   ],
   "source": [
    "from tensorflow.keras.models import Sequential\n",
    "from tensorflow.keras.layers import Dense, Dropout\n",
    "\n",
    "model_1 = Sequential([\n",
    "    Dense(128, activation='relu', input_shape=(X_scaled.shape[1],)),\n",
    "    Dropout(0.3),\n",
    "    Dense(len(le.classes_), activation='softmax')\n",
    "])\n",
    "\n",
    "model_1.compile(optimizer='adam', loss='categorical_crossentropy', metrics=['accuracy'])\n",
    "\n",
    "history_1 = model_1.fit(X_scaled, y_cat, epochs=20, batch_size=32, validation_split=0.2)\n"
   ]
  },
  {
   "cell_type": "code",
   "execution_count": 62,
   "id": "4874be87-0bc3-4426-a12f-0229ab66448d",
   "metadata": {
    "collapsed": true,
    "jupyter": {
     "outputs_hidden": true
    }
   },
   "outputs": [
    {
     "name": "stdout",
     "output_type": "stream",
     "text": [
      "Epoch 1/20\n",
      "\u001b[1m46/46\u001b[0m \u001b[32m━━━━━━━━━━━━━━━━━━━━\u001b[0m\u001b[37m\u001b[0m \u001b[1m1s\u001b[0m 8ms/step - accuracy: 0.3159 - loss: 2.0250 - val_accuracy: 0.3699 - val_loss: 1.4204\n",
      "Epoch 2/20\n",
      "\u001b[1m46/46\u001b[0m \u001b[32m━━━━━━━━━━━━━━━━━━━━\u001b[0m\u001b[37m\u001b[0m \u001b[1m0s\u001b[0m 5ms/step - accuracy: 0.3990 - loss: 1.4619 - val_accuracy: 0.3507 - val_loss: 1.3543\n",
      "Epoch 3/20\n",
      "\u001b[1m46/46\u001b[0m \u001b[32m━━━━━━━━━━━━━━━━━━━━\u001b[0m\u001b[37m\u001b[0m \u001b[1m0s\u001b[0m 4ms/step - accuracy: 0.4396 - loss: 1.2573 - val_accuracy: 0.3397 - val_loss: 1.3611\n",
      "Epoch 4/20\n",
      "\u001b[1m46/46\u001b[0m \u001b[32m━━━━━━━━━━━━━━━━━━━━\u001b[0m\u001b[37m\u001b[0m \u001b[1m0s\u001b[0m 5ms/step - accuracy: 0.4766 - loss: 1.1602 - val_accuracy: 0.3644 - val_loss: 1.3077\n",
      "Epoch 5/20\n",
      "\u001b[1m46/46\u001b[0m \u001b[32m━━━━━━━━━━━━━━━━━━━━\u001b[0m\u001b[37m\u001b[0m \u001b[1m0s\u001b[0m 4ms/step - accuracy: 0.5247 - loss: 1.0697 - val_accuracy: 0.3699 - val_loss: 1.2926\n",
      "Epoch 6/20\n",
      "\u001b[1m46/46\u001b[0m \u001b[32m━━━━━━━━━━━━━━━━━━━━\u001b[0m\u001b[37m\u001b[0m \u001b[1m0s\u001b[0m 4ms/step - accuracy: 0.5900 - loss: 0.9521 - val_accuracy: 0.3781 - val_loss: 1.3499\n",
      "Epoch 7/20\n",
      "\u001b[1m46/46\u001b[0m \u001b[32m━━━━━━━━━━━━━━━━━━━━\u001b[0m\u001b[37m\u001b[0m \u001b[1m0s\u001b[0m 4ms/step - accuracy: 0.6092 - loss: 0.9240 - val_accuracy: 0.4055 - val_loss: 1.3311\n",
      "Epoch 8/20\n",
      "\u001b[1m46/46\u001b[0m \u001b[32m━━━━━━━━━━━━━━━━━━━━\u001b[0m\u001b[37m\u001b[0m \u001b[1m0s\u001b[0m 4ms/step - accuracy: 0.6332 - loss: 0.8865 - val_accuracy: 0.3753 - val_loss: 1.4064\n",
      "Epoch 9/20\n",
      "\u001b[1m46/46\u001b[0m \u001b[32m━━━━━━━━━━━━━━━━━━━━\u001b[0m\u001b[37m\u001b[0m \u001b[1m0s\u001b[0m 4ms/step - accuracy: 0.6573 - loss: 0.8178 - val_accuracy: 0.3425 - val_loss: 1.4723\n",
      "Epoch 10/20\n",
      "\u001b[1m46/46\u001b[0m \u001b[32m━━━━━━━━━━━━━━━━━━━━\u001b[0m\u001b[37m\u001b[0m \u001b[1m0s\u001b[0m 4ms/step - accuracy: 0.6827 - loss: 0.7909 - val_accuracy: 0.3836 - val_loss: 1.4667\n",
      "Epoch 11/20\n",
      "\u001b[1m46/46\u001b[0m \u001b[32m━━━━━━━━━━━━━━━━━━━━\u001b[0m\u001b[37m\u001b[0m \u001b[1m0s\u001b[0m 4ms/step - accuracy: 0.6916 - loss: 0.7535 - val_accuracy: 0.3726 - val_loss: 1.5257\n",
      "Epoch 12/20\n",
      "\u001b[1m46/46\u001b[0m \u001b[32m━━━━━━━━━━━━━━━━━━━━\u001b[0m\u001b[37m\u001b[0m \u001b[1m0s\u001b[0m 4ms/step - accuracy: 0.7191 - loss: 0.6831 - val_accuracy: 0.3836 - val_loss: 1.5324\n",
      "Epoch 13/20\n",
      "\u001b[1m46/46\u001b[0m \u001b[32m━━━━━━━━━━━━━━━━━━━━\u001b[0m\u001b[37m\u001b[0m \u001b[1m0s\u001b[0m 4ms/step - accuracy: 0.7418 - loss: 0.6408 - val_accuracy: 0.3836 - val_loss: 1.5582\n",
      "Epoch 14/20\n",
      "\u001b[1m46/46\u001b[0m \u001b[32m━━━━━━━━━━━━━━━━━━━━\u001b[0m\u001b[37m\u001b[0m \u001b[1m0s\u001b[0m 5ms/step - accuracy: 0.7589 - loss: 0.5897 - val_accuracy: 0.3534 - val_loss: 1.6269\n",
      "Epoch 15/20\n",
      "\u001b[1m46/46\u001b[0m \u001b[32m━━━━━━━━━━━━━━━━━━━━\u001b[0m\u001b[37m\u001b[0m \u001b[1m0s\u001b[0m 4ms/step - accuracy: 0.7679 - loss: 0.5980 - val_accuracy: 0.3753 - val_loss: 1.7163\n",
      "Epoch 16/20\n",
      "\u001b[1m46/46\u001b[0m \u001b[32m━━━━━━━━━━━━━━━━━━━━\u001b[0m\u001b[37m\u001b[0m \u001b[1m0s\u001b[0m 6ms/step - accuracy: 0.7699 - loss: 0.5754 - val_accuracy: 0.3479 - val_loss: 1.7733\n",
      "Epoch 17/20\n",
      "\u001b[1m46/46\u001b[0m \u001b[32m━━━━━━━━━━━━━━━━━━━━\u001b[0m\u001b[37m\u001b[0m \u001b[1m0s\u001b[0m 4ms/step - accuracy: 0.7940 - loss: 0.5247 - val_accuracy: 0.3260 - val_loss: 1.8829\n",
      "Epoch 18/20\n",
      "\u001b[1m46/46\u001b[0m \u001b[32m━━━━━━━━━━━━━━━━━━━━\u001b[0m\u001b[37m\u001b[0m \u001b[1m0s\u001b[0m 5ms/step - accuracy: 0.8036 - loss: 0.5120 - val_accuracy: 0.3699 - val_loss: 1.8801\n",
      "Epoch 19/20\n",
      "\u001b[1m46/46\u001b[0m \u001b[32m━━━━━━━━━━━━━━━━━━━━\u001b[0m\u001b[37m\u001b[0m \u001b[1m0s\u001b[0m 4ms/step - accuracy: 0.8221 - loss: 0.4745 - val_accuracy: 0.3781 - val_loss: 1.9531\n",
      "Epoch 20/20\n",
      "\u001b[1m46/46\u001b[0m \u001b[32m━━━━━━━━━━━━━━━━━━━━\u001b[0m\u001b[37m\u001b[0m \u001b[1m0s\u001b[0m 5ms/step - accuracy: 0.8104 - loss: 0.4672 - val_accuracy: 0.3397 - val_loss: 2.0527\n"
     ]
    }
   ],
   "source": [
    "model_2 = Sequential([\n",
    "    Dense(128, activation='relu', input_shape=(X_scaled.shape[1],)),\n",
    "    Dropout(0.3),\n",
    "    Dense(64, activation='relu'),\n",
    "    Dropout(0.3),\n",
    "    Dense(len(le.classes_), activation='softmax')\n",
    "])\n",
    "\n",
    "model_2.compile(optimizer='adam', loss='categorical_crossentropy', metrics=['accuracy'])\n",
    "\n",
    "history_2 = model_2.fit(X_scaled, y_cat, epochs=20, batch_size=32, validation_split=0.2)\n"
   ]
  },
  {
   "cell_type": "code",
   "execution_count": 63,
   "id": "5c79a74a-9e58-42ee-be0f-2eb5dad7d6c2",
   "metadata": {
    "collapsed": true,
    "jupyter": {
     "outputs_hidden": true
    }
   },
   "outputs": [
    {
     "name": "stdout",
     "output_type": "stream",
     "text": [
      "Epoch 1/20\n",
      "\u001b[1m46/46\u001b[0m \u001b[32m━━━━━━━━━━━━━━━━━━━━\u001b[0m\u001b[37m\u001b[0m \u001b[1m1s\u001b[0m 7ms/step - accuracy: 0.3001 - loss: 2.0119 - val_accuracy: 0.3507 - val_loss: 1.3766\n",
      "Epoch 2/20\n",
      "\u001b[1m46/46\u001b[0m \u001b[32m━━━━━━━━━━━━━━━━━━━━\u001b[0m\u001b[37m\u001b[0m \u001b[1m0s\u001b[0m 5ms/step - accuracy: 0.3599 - loss: 1.5421 - val_accuracy: 0.3863 - val_loss: 1.3005\n",
      "Epoch 3/20\n",
      "\u001b[1m46/46\u001b[0m \u001b[32m━━━━━━━━━━━━━━━━━━━━\u001b[0m\u001b[37m\u001b[0m \u001b[1m0s\u001b[0m 4ms/step - accuracy: 0.3846 - loss: 1.3975 - val_accuracy: 0.3616 - val_loss: 1.2957\n",
      "Epoch 4/20\n",
      "\u001b[1m46/46\u001b[0m \u001b[32m━━━━━━━━━━━━━━━━━━━━\u001b[0m\u001b[37m\u001b[0m \u001b[1m0s\u001b[0m 5ms/step - accuracy: 0.3887 - loss: 1.3456 - val_accuracy: 0.3425 - val_loss: 1.2806\n",
      "Epoch 5/20\n",
      "\u001b[1m46/46\u001b[0m \u001b[32m━━━━━━━━━━━━━━━━━━━━\u001b[0m\u001b[37m\u001b[0m \u001b[1m0s\u001b[0m 4ms/step - accuracy: 0.4409 - loss: 1.2693 - val_accuracy: 0.3096 - val_loss: 1.2877\n",
      "Epoch 6/20\n",
      "\u001b[1m46/46\u001b[0m \u001b[32m━━━━━━━━━━━━━━━━━━━━\u001b[0m\u001b[37m\u001b[0m \u001b[1m0s\u001b[0m 5ms/step - accuracy: 0.4231 - loss: 1.2509 - val_accuracy: 0.3315 - val_loss: 1.2609\n",
      "Epoch 7/20\n",
      "\u001b[1m46/46\u001b[0m \u001b[32m━━━━━━━━━━━━━━━━━━━━\u001b[0m\u001b[37m\u001b[0m \u001b[1m0s\u001b[0m 4ms/step - accuracy: 0.4409 - loss: 1.2040 - val_accuracy: 0.3616 - val_loss: 1.2733\n",
      "Epoch 8/20\n",
      "\u001b[1m46/46\u001b[0m \u001b[32m━━━━━━━━━━━━━━━━━━━━\u001b[0m\u001b[37m\u001b[0m \u001b[1m0s\u001b[0m 4ms/step - accuracy: 0.4526 - loss: 1.1915 - val_accuracy: 0.3808 - val_loss: 1.2489\n",
      "Epoch 9/20\n",
      "\u001b[1m46/46\u001b[0m \u001b[32m━━━━━━━━━━━━━━━━━━━━\u001b[0m\u001b[37m\u001b[0m \u001b[1m0s\u001b[0m 4ms/step - accuracy: 0.4835 - loss: 1.1587 - val_accuracy: 0.3479 - val_loss: 1.2859\n",
      "Epoch 10/20\n",
      "\u001b[1m46/46\u001b[0m \u001b[32m━━━━━━━━━━━━━━━━━━━━\u001b[0m\u001b[37m\u001b[0m \u001b[1m0s\u001b[0m 5ms/step - accuracy: 0.4698 - loss: 1.1228 - val_accuracy: 0.3507 - val_loss: 1.2701\n",
      "Epoch 11/20\n",
      "\u001b[1m46/46\u001b[0m \u001b[32m━━━━━━━━━━━━━━━━━━━━\u001b[0m\u001b[37m\u001b[0m \u001b[1m0s\u001b[0m 4ms/step - accuracy: 0.4787 - loss: 1.1069 - val_accuracy: 0.3397 - val_loss: 1.2824\n",
      "Epoch 12/20\n",
      "\u001b[1m46/46\u001b[0m \u001b[32m━━━━━━━━━━━━━━━━━━━━\u001b[0m\u001b[37m\u001b[0m \u001b[1m0s\u001b[0m 4ms/step - accuracy: 0.5288 - loss: 1.0678 - val_accuracy: 0.3671 - val_loss: 1.2966\n",
      "Epoch 13/20\n",
      "\u001b[1m46/46\u001b[0m \u001b[32m━━━━━━━━━━━━━━━━━━━━\u001b[0m\u001b[37m\u001b[0m \u001b[1m0s\u001b[0m 4ms/step - accuracy: 0.5481 - loss: 1.0381 - val_accuracy: 0.3753 - val_loss: 1.2911\n",
      "Epoch 14/20\n",
      "\u001b[1m46/46\u001b[0m \u001b[32m━━━━━━━━━━━━━━━━━━━━\u001b[0m\u001b[37m\u001b[0m \u001b[1m0s\u001b[0m 4ms/step - accuracy: 0.5474 - loss: 0.9858 - val_accuracy: 0.3753 - val_loss: 1.3383\n",
      "Epoch 15/20\n",
      "\u001b[1m46/46\u001b[0m \u001b[32m━━━━━━━━━━━━━━━━━━━━\u001b[0m\u001b[37m\u001b[0m \u001b[1m0s\u001b[0m 4ms/step - accuracy: 0.5797 - loss: 1.0086 - val_accuracy: 0.3589 - val_loss: 1.2972\n",
      "Epoch 16/20\n",
      "\u001b[1m46/46\u001b[0m \u001b[32m━━━━━━━━━━━━━━━━━━━━\u001b[0m\u001b[37m\u001b[0m \u001b[1m0s\u001b[0m 5ms/step - accuracy: 0.5776 - loss: 0.9826 - val_accuracy: 0.4000 - val_loss: 1.3642\n",
      "Epoch 17/20\n",
      "\u001b[1m46/46\u001b[0m \u001b[32m━━━━━━━━━━━━━━━━━━━━\u001b[0m\u001b[37m\u001b[0m \u001b[1m0s\u001b[0m 5ms/step - accuracy: 0.6058 - loss: 0.9364 - val_accuracy: 0.3753 - val_loss: 1.3256\n",
      "Epoch 18/20\n",
      "\u001b[1m46/46\u001b[0m \u001b[32m━━━━━━━━━━━━━━━━━━━━\u001b[0m\u001b[37m\u001b[0m \u001b[1m0s\u001b[0m 5ms/step - accuracy: 0.6380 - loss: 0.8877 - val_accuracy: 0.3945 - val_loss: 1.3355\n",
      "Epoch 19/20\n",
      "\u001b[1m46/46\u001b[0m \u001b[32m━━━━━━━━━━━━━━━━━━━━\u001b[0m\u001b[37m\u001b[0m \u001b[1m0s\u001b[0m 5ms/step - accuracy: 0.6442 - loss: 0.8931 - val_accuracy: 0.3808 - val_loss: 1.3647\n",
      "Epoch 20/20\n",
      "\u001b[1m46/46\u001b[0m \u001b[32m━━━━━━━━━━━━━━━━━━━━\u001b[0m\u001b[37m\u001b[0m \u001b[1m0s\u001b[0m 5ms/step - accuracy: 0.6607 - loss: 0.8441 - val_accuracy: 0.3863 - val_loss: 1.3781\n"
     ]
    }
   ],
   "source": [
    "model_3 = Sequential([\n",
    "    Dense(128, activation='relu', input_shape=(X_scaled.shape[1],)),\n",
    "    Dropout(0.3),\n",
    "    Dense(64, activation='relu'),\n",
    "    Dropout(0.3),\n",
    "    Dense(32, activation='relu'),\n",
    "    Dropout(0.3),\n",
    "    Dense(len(le.classes_), activation='softmax')\n",
    "])\n",
    "\n",
    "model_3.compile(optimizer='adam', loss='categorical_crossentropy', metrics=['accuracy'])\n",
    "\n",
    "history_3 = model_3.fit(X_scaled, y_cat, epochs=20, batch_size=32, validation_split=0.2)\n"
   ]
  }
 ],
 "metadata": {
  "kernelspec": {
   "display_name": "Python (myenv)",
   "language": "python",
   "name": "myenv"
  },
  "language_info": {
   "codemirror_mode": {
    "name": "ipython",
    "version": 3
   },
   "file_extension": ".py",
   "mimetype": "text/x-python",
   "name": "python",
   "nbconvert_exporter": "python",
   "pygments_lexer": "ipython3",
   "version": "3.10.18"
  }
 },
 "nbformat": 4,
 "nbformat_minor": 5
}
