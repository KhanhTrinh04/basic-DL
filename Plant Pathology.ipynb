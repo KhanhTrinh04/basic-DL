{
 "cells": [
  {
   "cell_type": "code",
   "execution_count": 1,
   "id": "f2a5c74d-0b66-4577-aac0-2ad591e19966",
   "metadata": {},
   "outputs": [],
   "source": [
    "import pandas as pd\n",
    "import numpy as np\n",
    "import os\n",
    "from skimage.io import imread\n",
    "from skimage.transform import resize\n",
    "from sklearn.model_selection import train_test_split\n",
    "from sklearn.preprocessing import LabelBinarizer\n",
    "\n",
    "data_path = r\"E:\\DeepLearning\\datasets\"\n",
    "train_df = pd.read_csv(os.path.join(data_path, \"train.csv\"))\n",
    "images_path = os.path.join(data_path, \"images\")"
   ]
  },
  {
   "cell_type": "code",
   "execution_count": 2,
   "id": "c3b4b185-d2e2-4871-a7e5-a6c0d2733e9d",
   "metadata": {},
   "outputs": [
    {
     "name": "stdout",
     "output_type": "stream",
     "text": [
      "Kích thước X_train: (400, 3072)\n",
      "Kích thước y_train: (400,)\n"
     ]
    }
   ],
   "source": [
    "subset = train_df.sample(500, random_state=42)\n",
    "\n",
    "X = []\n",
    "y = []\n",
    "\n",
    "for i, row in subset.iterrows():   \n",
    "    img_path = os.path.join(images_path, row[\"image_id\"] + \".jpg\")\n",
    "    img = imread(img_path)\n",
    "    img_resized = resize(img, (32, 32)).flatten()\n",
    "    X.append(img_resized)\n",
    "\n",
    "    # Chuyển one-hot → index class\n",
    "    label_idx = np.argmax(row.drop(\"image_id\").values)\n",
    "    y.append(label_idx)\n",
    "\n",
    "X = np.array(X)\n",
    "y = np.array(y)\n",
    "\n",
    "from sklearn.model_selection import train_test_split\n",
    "X_train, X_test, y_train, y_test = train_test_split(X, y, test_size=0.2, random_state=42)\n",
    "\n",
    "print(\"Kích thước X_train:\", X_train.shape)\n",
    "print(\"Kích thước y_train:\", y_train.shape)\n"
   ]
  },
  {
   "cell_type": "markdown",
   "id": "5a3154a8-1b21-4b0f-939e-e5591cbf23d4",
   "metadata": {},
   "source": [
    "# Logistic Regression"
   ]
  },
  {
   "cell_type": "code",
   "execution_count": 5,
   "id": "2d1a0017-a9ec-40f0-b5e1-c63d991a8de6",
   "metadata": {},
   "outputs": [
    {
     "name": "stdout",
     "output_type": "stream",
     "text": [
      "              precision    recall  f1-score   support\n",
      "\n",
      "           0       0.40      0.42      0.41        24\n",
      "           1       0.00      0.00      0.00         7\n",
      "           2       0.51      0.47      0.49        38\n",
      "           3       0.24      0.29      0.26        31\n",
      "\n",
      "    accuracy                           0.37       100\n",
      "   macro avg       0.29      0.30      0.29       100\n",
      "weighted avg       0.37      0.37      0.37       100\n",
      "\n"
     ]
    }
   ],
   "source": [
    "from sklearn.linear_model import LogisticRegression\n",
    "from sklearn.metrics import classification_report\n",
    "\n",
    "log_reg = LogisticRegression(max_iter=1000)\n",
    "log_reg.fit(X_train, y_train)\n",
    "\n",
    "y_pred = log_reg.predict(X_test)\n",
    "print(classification_report(y_test, y_pred))"
   ]
  },
  {
   "cell_type": "markdown",
   "id": "e8769109-8b75-4ef7-aa60-743365dd93ad",
   "metadata": {},
   "source": [
    "# Random Forest"
   ]
  },
  {
   "cell_type": "code",
   "execution_count": 7,
   "id": "55e0ddc2-d46a-4585-9015-927883a21250",
   "metadata": {},
   "outputs": [
    {
     "name": "stdout",
     "output_type": "stream",
     "text": [
      "              precision    recall  f1-score   support\n",
      "\n",
      "           0       0.50      0.38      0.43        24\n",
      "           1       0.00      0.00      0.00         7\n",
      "           2       0.45      0.55      0.49        38\n",
      "           3       0.43      0.48      0.45        31\n",
      "\n",
      "    accuracy                           0.45       100\n",
      "   macro avg       0.34      0.35      0.34       100\n",
      "weighted avg       0.42      0.45      0.43       100\n",
      "\n"
     ]
    },
    {
     "name": "stderr",
     "output_type": "stream",
     "text": [
      "C:\\Users\\hilda\\anaconda3\\envs\\myenv\\lib\\site-packages\\sklearn\\metrics\\_classification.py:1731: UndefinedMetricWarning: Precision is ill-defined and being set to 0.0 in labels with no predicted samples. Use `zero_division` parameter to control this behavior.\n",
      "  _warn_prf(average, modifier, f\"{metric.capitalize()} is\", result.shape[0])\n",
      "C:\\Users\\hilda\\anaconda3\\envs\\myenv\\lib\\site-packages\\sklearn\\metrics\\_classification.py:1731: UndefinedMetricWarning: Precision is ill-defined and being set to 0.0 in labels with no predicted samples. Use `zero_division` parameter to control this behavior.\n",
      "  _warn_prf(average, modifier, f\"{metric.capitalize()} is\", result.shape[0])\n",
      "C:\\Users\\hilda\\anaconda3\\envs\\myenv\\lib\\site-packages\\sklearn\\metrics\\_classification.py:1731: UndefinedMetricWarning: Precision is ill-defined and being set to 0.0 in labels with no predicted samples. Use `zero_division` parameter to control this behavior.\n",
      "  _warn_prf(average, modifier, f\"{metric.capitalize()} is\", result.shape[0])\n"
     ]
    }
   ],
   "source": [
    "from sklearn.ensemble import RandomForestClassifier\n",
    "\n",
    "rf = RandomForestClassifier(n_estimators=100, random_state=42)\n",
    "rf.fit(X_train, y_train)\n",
    "\n",
    "y_pred = rf.predict(X_test)\n",
    "print(classification_report(y_test, y_pred))"
   ]
  },
  {
   "cell_type": "markdown",
   "id": "cac4e751-c79e-4581-aed7-70b06f67081e",
   "metadata": {},
   "source": [
    "# SVM"
   ]
  },
  {
   "cell_type": "code",
   "execution_count": null,
   "id": "09f4e815-05e9-4418-a7a6-3453772fe273",
   "metadata": {},
   "outputs": [],
   "source": [
    "from sklearn.svm import SVC\n",
    "\n",
    "svm_model = SVC()\n",
    "svm_model.fit(X_train, y_train)\n",
    "\n",
    "y_pred = svm_model.predict(X_test)\n",
    "print(classification_report(y_test, y_pred))"
   ]
  },
  {
   "cell_type": "markdown",
   "id": "3fdaa9b5-e128-4c68-95f5-3fe3abb1bc88",
   "metadata": {},
   "source": [
    "# KNN"
   ]
  },
  {
   "cell_type": "code",
   "execution_count": null,
   "id": "47a72b63-d778-4277-aa96-0e05a51dca9e",
   "metadata": {},
   "outputs": [],
   "source": [
    "from sklearn.neighbors import KNeighborsClassifier\n",
    "\n",
    "knn = KNeighborsClassifier(n_neighbors=5)\n",
    "knn.fit(X_train, y_train)\n",
    "\n",
    "y_pred = knn.predict(X_test)\n",
    "print(classification_report(y_test, y_pred))"
   ]
  },
  {
   "cell_type": "markdown",
   "id": "e6f3e9d2-5e61-4a2d-abb6-9d2c948d41dc",
   "metadata": {},
   "source": [
    "# Gradient Boosting"
   ]
  },
  {
   "cell_type": "code",
   "execution_count": null,
   "id": "41851f0c-9347-4fa7-be87-06c1d76cf233",
   "metadata": {},
   "outputs": [],
   "source": [
    "from sklearn.ensemble import GradientBoostingClassifier\n",
    "\n",
    "gb = GradientBoostingClassifier()\n",
    "gb.fit(X_train, y_train)\n",
    "\n",
    "y_pred = gb.predict(X_test)\n",
    "print(classification_report(y_test, y_pred))"
   ]
  },
  {
   "cell_type": "markdown",
   "id": "832030a6-1c0d-494e-90f1-8d9491e67502",
   "metadata": {},
   "source": [
    "# PCA + Logistic Regression (giảm chiều dữ liệu trước khi học)"
   ]
  },
  {
   "cell_type": "code",
   "execution_count": null,
   "id": "ef4abb0f-9f29-4d7e-8264-30bccfbd1481",
   "metadata": {},
   "outputs": [],
   "source": [
    "from sklearn.decomposition import PCA\n",
    "\n",
    "pca = PCA(n_components=100)\n",
    "X_train_pca = pca.fit_transform(X_train)\n",
    "X_test_pca = pca.transform(X_test)\n",
    "\n",
    "log_reg_pca = LogisticRegression(max_iter=1000)\n",
    "log_reg_pca.fit(X_train_pca, y_train)\n",
    "\n",
    "y_pred = log_reg_pca.predict(X_test_pca)\n",
    "print(classification_report(y_test, y_pred))\n"
   ]
  }
 ],
 "metadata": {
  "kernelspec": {
   "display_name": "Python 3 (ipykernel)",
   "language": "python",
   "name": "python3"
  },
  "language_info": {
   "codemirror_mode": {
    "name": "ipython",
    "version": 3
   },
   "file_extension": ".py",
   "mimetype": "text/x-python",
   "name": "python",
   "nbconvert_exporter": "python",
   "pygments_lexer": "ipython3",
   "version": "3.10.18"
  }
 },
 "nbformat": 4,
 "nbformat_minor": 5
}
