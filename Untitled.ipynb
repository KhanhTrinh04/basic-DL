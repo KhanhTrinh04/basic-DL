{
 "cells": [
  {
   "cell_type": "code",
   "execution_count": 1,
   "id": "88abf246-e950-4cd6-a0ba-02f20e2c2715",
   "metadata": {},
   "outputs": [],
   "source": [
    "import pandas as pd\n",
    "import numpy as np\n",
    "from sklearn.impute import SimpleImputer\n",
    "from sklearn import model_selection as ms\n",
    "\n",
    "d_test = pd.read_excel(r\"E:\\DeepLearning\\agriculture\\test_agriculture.xlsx\")\n",
    "d_train = pd.read_csv(r\"E:\\DeepLearning\\agriculture\\train_agriculture.csv\", encoding='latin1')\n",
    "\n",
    "imp = SimpleImputer(missing_values=np.nan, strategy='mean')\n",
    "\n",
    "x = d_train.iloc[:, 1:-1]\n",
    "y = d_train.iloc[:, -1].to_numpy()\n",
    "\n",
    "x_train, x_test, y_train, y_test = ms.train_test_split(x, y, test_size=0.2, random_state=42)\n"
   ]
  },
  {
   "cell_type": "code",
   "execution_count": 2,
   "id": "ac379eb1-5fe2-406e-b0af-cc1723d06185",
   "metadata": {
    "scrolled": true
   },
   "outputs": [
    {
     "data": {
      "text/html": [
       "<div>\n",
       "<style scoped>\n",
       "    .dataframe tbody tr th:only-of-type {\n",
       "        vertical-align: middle;\n",
       "    }\n",
       "\n",
       "    .dataframe tbody tr th {\n",
       "        vertical-align: top;\n",
       "    }\n",
       "\n",
       "    .dataframe thead th {\n",
       "        text-align: right;\n",
       "    }\n",
       "</style>\n",
       "<table border=\"1\" class=\"dataframe\">\n",
       "  <thead>\n",
       "    <tr style=\"text-align: right;\">\n",
       "      <th></th>\n",
       "      <th>Estimated_Insects_Count</th>\n",
       "      <th>Crop_Type</th>\n",
       "      <th>Soil_Type</th>\n",
       "      <th>Pesticide_Use_Category</th>\n",
       "      <th>Number_Doses_Week</th>\n",
       "      <th>Number_Weeks_Used</th>\n",
       "      <th>Number_Weeks_Quit</th>\n",
       "      <th>Season</th>\n",
       "    </tr>\n",
       "  </thead>\n",
       "  <tbody>\n",
       "    <tr>\n",
       "      <th>80255</th>\n",
       "      <td>850</td>\n",
       "      <td>0</td>\n",
       "      <td>1</td>\n",
       "      <td>2</td>\n",
       "      <td>60</td>\n",
       "      <td>27.0</td>\n",
       "      <td>6</td>\n",
       "      <td>1</td>\n",
       "    </tr>\n",
       "    <tr>\n",
       "      <th>54422</th>\n",
       "      <td>1296</td>\n",
       "      <td>0</td>\n",
       "      <td>0</td>\n",
       "      <td>2</td>\n",
       "      <td>5</td>\n",
       "      <td>10.0</td>\n",
       "      <td>20</td>\n",
       "      <td>3</td>\n",
       "    </tr>\n",
       "    <tr>\n",
       "      <th>70334</th>\n",
       "      <td>1296</td>\n",
       "      <td>0</td>\n",
       "      <td>1</td>\n",
       "      <td>2</td>\n",
       "      <td>20</td>\n",
       "      <td>34.0</td>\n",
       "      <td>17</td>\n",
       "      <td>1</td>\n",
       "    </tr>\n",
       "    <tr>\n",
       "      <th>32243</th>\n",
       "      <td>1212</td>\n",
       "      <td>0</td>\n",
       "      <td>1</td>\n",
       "      <td>2</td>\n",
       "      <td>20</td>\n",
       "      <td>16.0</td>\n",
       "      <td>27</td>\n",
       "      <td>2</td>\n",
       "    </tr>\n",
       "    <tr>\n",
       "      <th>69334</th>\n",
       "      <td>231</td>\n",
       "      <td>0</td>\n",
       "      <td>0</td>\n",
       "      <td>2</td>\n",
       "      <td>20</td>\n",
       "      <td>17.0</td>\n",
       "      <td>7</td>\n",
       "      <td>1</td>\n",
       "    </tr>\n",
       "    <tr>\n",
       "      <th>...</th>\n",
       "      <td>...</td>\n",
       "      <td>...</td>\n",
       "      <td>...</td>\n",
       "      <td>...</td>\n",
       "      <td>...</td>\n",
       "      <td>...</td>\n",
       "      <td>...</td>\n",
       "      <td>...</td>\n",
       "    </tr>\n",
       "    <tr>\n",
       "      <th>6265</th>\n",
       "      <td>2139</td>\n",
       "      <td>0</td>\n",
       "      <td>0</td>\n",
       "      <td>2</td>\n",
       "      <td>40</td>\n",
       "      <td>NaN</td>\n",
       "      <td>8</td>\n",
       "      <td>3</td>\n",
       "    </tr>\n",
       "    <tr>\n",
       "      <th>54886</th>\n",
       "      <td>577</td>\n",
       "      <td>0</td>\n",
       "      <td>1</td>\n",
       "      <td>2</td>\n",
       "      <td>40</td>\n",
       "      <td>23.0</td>\n",
       "      <td>8</td>\n",
       "      <td>2</td>\n",
       "    </tr>\n",
       "    <tr>\n",
       "      <th>76820</th>\n",
       "      <td>2688</td>\n",
       "      <td>1</td>\n",
       "      <td>0</td>\n",
       "      <td>3</td>\n",
       "      <td>5</td>\n",
       "      <td>51.0</td>\n",
       "      <td>0</td>\n",
       "      <td>2</td>\n",
       "    </tr>\n",
       "    <tr>\n",
       "      <th>860</th>\n",
       "      <td>851</td>\n",
       "      <td>0</td>\n",
       "      <td>0</td>\n",
       "      <td>2</td>\n",
       "      <td>10</td>\n",
       "      <td>30.0</td>\n",
       "      <td>10</td>\n",
       "      <td>2</td>\n",
       "    </tr>\n",
       "    <tr>\n",
       "      <th>15795</th>\n",
       "      <td>851</td>\n",
       "      <td>1</td>\n",
       "      <td>0</td>\n",
       "      <td>3</td>\n",
       "      <td>30</td>\n",
       "      <td>28.0</td>\n",
       "      <td>0</td>\n",
       "      <td>2</td>\n",
       "    </tr>\n",
       "  </tbody>\n",
       "</table>\n",
       "<p>62200 rows × 8 columns</p>\n",
       "</div>"
      ],
      "text/plain": [
       "       Estimated_Insects_Count  Crop_Type  Soil_Type  Pesticide_Use_Category  \\\n",
       "80255                      850          0          1                       2   \n",
       "54422                     1296          0          0                       2   \n",
       "70334                     1296          0          1                       2   \n",
       "32243                     1212          0          1                       2   \n",
       "69334                      231          0          0                       2   \n",
       "...                        ...        ...        ...                     ...   \n",
       "6265                      2139          0          0                       2   \n",
       "54886                      577          0          1                       2   \n",
       "76820                     2688          1          0                       3   \n",
       "860                        851          0          0                       2   \n",
       "15795                      851          1          0                       3   \n",
       "\n",
       "       Number_Doses_Week  Number_Weeks_Used  Number_Weeks_Quit  Season  \n",
       "80255                 60               27.0                  6       1  \n",
       "54422                  5               10.0                 20       3  \n",
       "70334                 20               34.0                 17       1  \n",
       "32243                 20               16.0                 27       2  \n",
       "69334                 20               17.0                  7       1  \n",
       "...                  ...                ...                ...     ...  \n",
       "6265                  40                NaN                  8       3  \n",
       "54886                 40               23.0                  8       2  \n",
       "76820                  5               51.0                  0       2  \n",
       "860                   10               30.0                 10       2  \n",
       "15795                 30               28.0                  0       2  \n",
       "\n",
       "[62200 rows x 8 columns]"
      ]
     },
     "execution_count": 2,
     "metadata": {},
     "output_type": "execute_result"
    }
   ],
   "source": [
    "x_train"
   ]
  },
  {
   "cell_type": "code",
   "execution_count": 3,
   "id": "7892d8e7-d80f-44cf-a86d-0637f3fe2e21",
   "metadata": {
    "collapsed": true,
    "jupyter": {
     "outputs_hidden": true
    },
    "scrolled": true
   },
   "outputs": [
    {
     "data": {
      "text/html": [
       "<div>\n",
       "<style scoped>\n",
       "    .dataframe tbody tr th:only-of-type {\n",
       "        vertical-align: middle;\n",
       "    }\n",
       "\n",
       "    .dataframe tbody tr th {\n",
       "        vertical-align: top;\n",
       "    }\n",
       "\n",
       "    .dataframe thead th {\n",
       "        text-align: right;\n",
       "    }\n",
       "</style>\n",
       "<table border=\"1\" class=\"dataframe\">\n",
       "  <thead>\n",
       "    <tr style=\"text-align: right;\">\n",
       "      <th></th>\n",
       "      <th>Estimated_Insects_Count</th>\n",
       "      <th>Crop_Type</th>\n",
       "      <th>Soil_Type</th>\n",
       "      <th>Pesticide_Use_Category</th>\n",
       "      <th>Number_Doses_Week</th>\n",
       "      <th>Number_Weeks_Used</th>\n",
       "      <th>Number_Weeks_Quit</th>\n",
       "      <th>Season</th>\n",
       "    </tr>\n",
       "  </thead>\n",
       "  <tbody>\n",
       "    <tr>\n",
       "      <th>53358</th>\n",
       "      <td>1898</td>\n",
       "      <td>1</td>\n",
       "      <td>0</td>\n",
       "      <td>2</td>\n",
       "      <td>25</td>\n",
       "      <td>31.0</td>\n",
       "      <td>5</td>\n",
       "      <td>2</td>\n",
       "    </tr>\n",
       "    <tr>\n",
       "      <th>56080</th>\n",
       "      <td>677</td>\n",
       "      <td>0</td>\n",
       "      <td>1</td>\n",
       "      <td>3</td>\n",
       "      <td>40</td>\n",
       "      <td>33.0</td>\n",
       "      <td>0</td>\n",
       "      <td>1</td>\n",
       "    </tr>\n",
       "    <tr>\n",
       "      <th>29914</th>\n",
       "      <td>2267</td>\n",
       "      <td>0</td>\n",
       "      <td>1</td>\n",
       "      <td>2</td>\n",
       "      <td>20</td>\n",
       "      <td>20.0</td>\n",
       "      <td>23</td>\n",
       "      <td>3</td>\n",
       "    </tr>\n",
       "    <tr>\n",
       "      <th>10054</th>\n",
       "      <td>2999</td>\n",
       "      <td>1</td>\n",
       "      <td>0</td>\n",
       "      <td>2</td>\n",
       "      <td>20</td>\n",
       "      <td>NaN</td>\n",
       "      <td>8</td>\n",
       "      <td>3</td>\n",
       "    </tr>\n",
       "    <tr>\n",
       "      <th>80617</th>\n",
       "      <td>1898</td>\n",
       "      <td>0</td>\n",
       "      <td>1</td>\n",
       "      <td>2</td>\n",
       "      <td>40</td>\n",
       "      <td>40.0</td>\n",
       "      <td>9</td>\n",
       "      <td>1</td>\n",
       "    </tr>\n",
       "    <tr>\n",
       "      <th>...</th>\n",
       "      <td>...</td>\n",
       "      <td>...</td>\n",
       "      <td>...</td>\n",
       "      <td>...</td>\n",
       "      <td>...</td>\n",
       "      <td>...</td>\n",
       "      <td>...</td>\n",
       "      <td>...</td>\n",
       "    </tr>\n",
       "    <tr>\n",
       "      <th>31009</th>\n",
       "      <td>984</td>\n",
       "      <td>1</td>\n",
       "      <td>0</td>\n",
       "      <td>3</td>\n",
       "      <td>40</td>\n",
       "      <td>18.0</td>\n",
       "      <td>0</td>\n",
       "      <td>2</td>\n",
       "    </tr>\n",
       "    <tr>\n",
       "      <th>44424</th>\n",
       "      <td>1678</td>\n",
       "      <td>0</td>\n",
       "      <td>0</td>\n",
       "      <td>2</td>\n",
       "      <td>20</td>\n",
       "      <td>49.0</td>\n",
       "      <td>1</td>\n",
       "      <td>1</td>\n",
       "    </tr>\n",
       "    <tr>\n",
       "      <th>53186</th>\n",
       "      <td>851</td>\n",
       "      <td>1</td>\n",
       "      <td>0</td>\n",
       "      <td>2</td>\n",
       "      <td>5</td>\n",
       "      <td>6.0</td>\n",
       "      <td>13</td>\n",
       "      <td>2</td>\n",
       "    </tr>\n",
       "    <tr>\n",
       "      <th>64543</th>\n",
       "      <td>1132</td>\n",
       "      <td>0</td>\n",
       "      <td>0</td>\n",
       "      <td>2</td>\n",
       "      <td>30</td>\n",
       "      <td>NaN</td>\n",
       "      <td>16</td>\n",
       "      <td>2</td>\n",
       "    </tr>\n",
       "    <tr>\n",
       "      <th>87613</th>\n",
       "      <td>2687</td>\n",
       "      <td>0</td>\n",
       "      <td>0</td>\n",
       "      <td>2</td>\n",
       "      <td>10</td>\n",
       "      <td>NaN</td>\n",
       "      <td>22</td>\n",
       "      <td>1</td>\n",
       "    </tr>\n",
       "  </tbody>\n",
       "</table>\n",
       "<p>26658 rows × 8 columns</p>\n",
       "</div>"
      ],
      "text/plain": [
       "       Estimated_Insects_Count  Crop_Type  Soil_Type  Pesticide_Use_Category  \\\n",
       "53358                     1898          1          0                       2   \n",
       "56080                      677          0          1                       3   \n",
       "29914                     2267          0          1                       2   \n",
       "10054                     2999          1          0                       2   \n",
       "80617                     1898          0          1                       2   \n",
       "...                        ...        ...        ...                     ...   \n",
       "31009                      984          1          0                       3   \n",
       "44424                     1678          0          0                       2   \n",
       "53186                      851          1          0                       2   \n",
       "64543                     1132          0          0                       2   \n",
       "87613                     2687          0          0                       2   \n",
       "\n",
       "       Number_Doses_Week  Number_Weeks_Used  Number_Weeks_Quit  Season  \n",
       "53358                 25               31.0                  5       2  \n",
       "56080                 40               33.0                  0       1  \n",
       "29914                 20               20.0                 23       3  \n",
       "10054                 20                NaN                  8       3  \n",
       "80617                 40               40.0                  9       1  \n",
       "...                  ...                ...                ...     ...  \n",
       "31009                 40               18.0                  0       2  \n",
       "44424                 20               49.0                  1       1  \n",
       "53186                  5                6.0                 13       2  \n",
       "64543                 30                NaN                 16       2  \n",
       "87613                 10                NaN                 22       1  \n",
       "\n",
       "[26658 rows x 8 columns]"
      ]
     },
     "execution_count": 3,
     "metadata": {},
     "output_type": "execute_result"
    }
   ],
   "source": [
    "x_test"
   ]
  },
  {
   "cell_type": "code",
   "execution_count": 12,
   "id": "35bc585c-70aa-4269-9397-63d29fb74ad8",
   "metadata": {},
   "outputs": [
    {
     "data": {
      "text/plain": [
       "array([0, 2, 0, ..., 0, 0, 1])"
      ]
     },
     "execution_count": 12,
     "metadata": {},
     "output_type": "execute_result"
    }
   ],
   "source": [
    "y_test"
   ]
  },
  {
   "cell_type": "code",
   "execution_count": 4,
   "id": "e3ef21aa-837b-4320-a588-0ea8fb927699",
   "metadata": {},
   "outputs": [],
   "source": [
    "import pandas as pd\n",
    "import numpy as np\n",
    "from sklearn.impute import SimpleImputer\n",
    "from sklearn.pipeline import Pipeline\n",
    "from sklearn.preprocessing import StandardScaler\n",
    "from sklearn import linear_model, naive_bayes, neighbors, svm, tree, ensemble, neural_network, discriminant_analysis\n",
    "from sklearn.metrics import accuracy_score\n",
    "\n",
    "#20 model\n",
    "models = {\n",
    "    \"LogisticRegression\": linear_model.LogisticRegression(max_iter=500),\n",
    "    \"RidgeClassifier\": linear_model.RidgeClassifier(),\n",
    "    \"SGDClassifier\": linear_model.SGDClassifier(),\n",
    "    \n",
    "    \"GaussianNB\": naive_bayes.GaussianNB(),\n",
    "    \"MultinomialNB\": naive_bayes.MultinomialNB(),\n",
    "    \"BernoulliNB\": naive_bayes.BernoulliNB(),\n",
    "    \"CategoricalNB\": naive_bayes.CategoricalNB(),\n",
    "    \n",
    "    \"KNeighborsClassifier\": neighbors.KNeighborsClassifier(),\n",
    "    \"RadiusNeighborsClassifier\": neighbors.RadiusNeighborsClassifier(radius=10.0, outlier_label=-1),\n",
    "    \"NearestCentroid\": neighbors.NearestCentroid(),\n",
    "    \n",
    "    \"SVC\": svm.SVC(),\n",
    "    \"LinearSVC\": svm.LinearSVC(),\n",
    "    \"NuSVC\": svm.NuSVC(),\n",
    "    \n",
    "    \"DecisionTreeClassifier\": tree.DecisionTreeClassifier(),\n",
    "    \"RandomForestClassifier\": ensemble.RandomForestClassifier(),\n",
    "    \"ExtraTreesClassifier\": ensemble.ExtraTreesClassifier(),\n",
    "    \"GradientBoostingClassifier\": ensemble.GradientBoostingClassifier(),\n",
    "    \"HistGradientBoostingClassifier\": ensemble.HistGradientBoostingClassifier(),\n",
    "    \"AdaBoostClassifier\": ensemble.AdaBoostClassifier(),\n",
    "    \n",
    "    \"MLPClassifier\": neural_network.MLPClassifier(max_iter=500),\n",
    "}\n"
   ]
  },
  {
   "cell_type": "code",
   "execution_count": 8,
   "id": "7615971b-0424-4d5a-ac6b-c315f521a578",
   "metadata": {},
   "outputs": [
    {
     "name": "stdout",
     "output_type": "stream",
     "text": [
      "RandomForestClassifier -> 0.824555\n"
     ]
    }
   ],
   "source": [
    "model = ensemble.RandomForestClassifier()\n",
    "\n",
    "pipe = Pipeline([\n",
    "    (\"imputer\", SimpleImputer(strategy=\"mean\")),\n",
    "    (\"scaler\", StandardScaler(with_mean=False)),\n",
    "    (\"clf\", model)\n",
    "])\n",
    "\n",
    "pipe.fit(x_train, y_train)\n",
    "y_pred = pipe.predict(x_test)\n",
    "acc = accuracy_score(y_test, y_pred)\n",
    "\n",
    "print(f\"RandomForestClassifier -> {acc:.6f}\")\n"
   ]
  },
  {
   "cell_type": "markdown",
   "id": "8c39aef7-03c6-41b4-afd5-c4ccc89e8220",
   "metadata": {},
   "source": [
    "# Result của 20 models với bảng"
   ]
  },
  {
   "cell_type": "code",
   "execution_count": 11,
   "id": "a9d1cf64-9535-407f-bec9-319ae5fc6bc0",
   "metadata": {},
   "outputs": [
    {
     "name": "stdout",
     "output_type": "stream",
     "text": [
      "                         Model  Accuracy\n",
      "            LogisticRegression  0.832658\n",
      "               RidgeClassifier  0.834384\n",
      "                 SGDClassifier  0.834871\n",
      "                    GaussianNB  0.820017\n",
      "                 MultinomialNB  0.834984\n",
      "                   BernoulliNB  0.839110\n",
      "                 CategoricalNB  0.826994\n",
      "          KNeighborsClassifier  0.826994\n",
      "     RadiusNeighborsClassifier  0.834871\n",
      "               NearestCentroid  0.587553\n",
      "                           SVC  0.839110\n",
      "                     LinearSVC  0.834309\n",
      "                         NuSVC       NaN\n",
      "        DecisionTreeClassifier  0.744054\n",
      "        RandomForestClassifier  0.824105\n",
      "          ExtraTreesClassifier  0.814502\n",
      "    GradientBoostingClassifier  0.843349\n",
      "HistGradientBoostingClassifier  0.844474\n",
      "            AdaBoostClassifier  0.835246\n",
      "                 MLPClassifier  0.841436\n"
     ]
    }
   ],
   "source": [
    "results = {}\n",
    "for name, model in models.items():\n",
    "    try:\n",
    "        pipe = Pipeline([\n",
    "            (\"imputer\", SimpleImputer(strategy=\"mean\")),\n",
    "            (\"scaler\", StandardScaler(with_mean=False)),\n",
    "            (\"clf\", model)\n",
    "        ])\n",
    "        pipe.fit(x_train, y_train)\n",
    "        y_pred = pipe.predict(x_test)\n",
    "        results[name] = accuracy_score(y_test, y_pred)\n",
    "    except Exception:\n",
    "        results[name] = None \n",
    "\n",
    "# In bảng kết quả 2 cột\n",
    "df_results = pd.DataFrame(list(results.items()), columns=[\"Model\", \"Accuracy\"])\n",
    "print(df_results.to_string(index=False))\n"
   ]
  },
  {
   "cell_type": "markdown",
   "id": "7082bef9-8dff-4885-b691-bb157cbc6505",
   "metadata": {},
   "source": [
    "# Test size giarm"
   ]
  },
  {
   "cell_type": "code",
   "execution_count": 10,
   "id": "891bc5c5-6575-4e31-bcd0-008463601627",
   "metadata": {},
   "outputs": [],
   "source": [
    "import pandas as pd\n",
    "import numpy as np\n",
    "from sklearn.impute import SimpleImputer\n",
    "from sklearn import model_selection as ms\n",
    "\n",
    "d_test = pd.read_excel(r\"E:\\DeepLearning\\agriculture\\test_agriculture.xlsx\")\n",
    "d_train = pd.read_csv(r\"E:\\DeepLearning\\agriculture\\train_agriculture.csv\", encoding='latin1')\n",
    "\n",
    "imp = SimpleImputer(missing_values=np.nan, strategy='mean')\n",
    "\n",
    "x = d_train.iloc[:, 1:-1]\n",
    "y = d_train.iloc[:, -1].to_numpy()\n",
    "\n",
    "x_train, x_test, y_train, y_test = ms.train_test_split(x, y, test_size=0.4, random_state=42)\n"
   ]
  },
  {
   "cell_type": "code",
   "execution_count": 24,
   "id": "3514a56f-9679-449e-ab0e-6ba6ef8f2d4a",
   "metadata": {},
   "outputs": [],
   "source": [
    "from sklearn.experimental import enable_hist_gradient_boosting\n",
    "from sklearn.ensemble import HistGradientBoostingClassifier\n",
    "\n",
    "model = HistGradientBoostingClassifier(\n",
    "    learning_rate=0.05,\n",
    "    max_iter=1000,\n",
    "    max_depth=10,\n",
    "    max_bins = 511,\n",
    "    min_samples_leaf=20,\n",
    "    random_state=42\n",
    ")"
   ]
  },
  {
   "cell_type": "code",
   "execution_count": 25,
   "id": "2b0a8d0e-f407-4d78-b35c-502215854237",
   "metadata": {},
   "outputs": [
    {
     "name": "stdout",
     "output_type": "stream",
     "text": [
      "RandomForestClassifier -> 0.846106\n"
     ]
    }
   ],
   "source": [
    "from sklearn import ensemble\n",
    "model = ensemble.HistGradientBoostingClassifier()\n",
    "from sklearn.pipeline import Pipeline\n",
    "from sklearn.preprocessing import StandardScaler\n",
    "from sklearn.metrics import accuracy_score\n",
    "\n",
    "pipe = Pipeline([\n",
    "    (\"imputer\", SimpleImputer(strategy=\"mean\")),\n",
    "    (\"scaler\", StandardScaler(with_mean=False)),\n",
    "    (\"clf\", model)\n",
    "])\n",
    "\n",
    "pipe.fit(x_train, y_train)\n",
    "y_pred = pipe.predict(x_test)\n",
    "acc = accuracy_score(y_test, y_pred)\n",
    "\n",
    "print(f\"RandomForestClassifier -> {acc:.6f}\")\n"
   ]
  },
  {
   "cell_type": "markdown",
   "id": "1f416f37-8928-4f18-b6e9-9ebca24fd673",
   "metadata": {},
   "source": [
    "# >85 với GradientBoosting"
   ]
  },
  {
   "cell_type": "code",
   "execution_count": 30,
   "id": "bb89a0ca-a09c-41dc-90fd-6fb62881b7f7",
   "metadata": {
    "collapsed": true,
    "jupyter": {
     "outputs_hidden": true
    }
   },
   "outputs": [
    {
     "data": {
      "text/plain": [
       "'              precision    recall  f1-score   support\\n\\n           0       0.86      0.98      0.92     29748\\n           1       0.51      0.19      0.27      4881\\n           2       0.36      0.01      0.02       915\\n\\n    accuracy                           0.85     35544\\n   macro avg       0.58      0.39      0.40     35544\\nweighted avg       0.80      0.85      0.81     35544\\n'"
      ]
     },
     "execution_count": 30,
     "metadata": {},
     "output_type": "execute_result"
    }
   ],
   "source": [
    "from sklearn.ensemble import GradientBoostingClassifier\n",
    "from sklearn.model_selection import RandomizedSearchCV\n",
    "from scipy.stats import randint, uniform\n",
    "\n",
    "# Pipeline xử lý dữ liệu + model\n",
    "pipe = Pipeline([\n",
    "    (\"imputer\", SimpleImputer(strategy=\"mean\")),\n",
    "    (\"scaler\", StandardScaler(with_mean=False)),  # có thể thử bỏ nếu dữ liệu dạng categorical nhiều\n",
    "    (\"clf\", GradientBoostingClassifier(random_state=42))\n",
    "])\n",
    "\n",
    "param_dist = {\n",
    "    \"clf__n_estimators\": randint(200, 1000),       # học nhiều cây hơn\n",
    "    \"clf__learning_rate\": uniform(0.01, 0.2),      # tốc độ học nhỏ hơn\n",
    "    \"clf__max_depth\": randint(3, 10),              # độ sâu mỗi cây\n",
    "    \"clf__min_samples_split\": randint(2, 20),     \n",
    "    \"clf__min_samples_leaf\": randint(1, 20),      \n",
    "    \"clf__subsample\": uniform(0.7, 0.3)            \n",
    "}\n",
    "\n",
    "search = RandomizedSearchCV(\n",
    "    pipe,\n",
    "    param_distributions=param_dist,\n",
    "    n_iter=50,            # thử 50 tổ hợp\n",
    "    cv=3,                 # 3-fold CV\n",
    "    scoring=\"accuracy\",\n",
    "    n_jobs=-1,\n",
    "    random_state=42,\n",
    "    verbose=1\n",
    ")\n",
    "classification_report(y_test, y_pred)\n"
   ]
  },
  {
   "cell_type": "code",
   "execution_count": 32,
   "id": "5d8f7737-4674-43d8-88a2-40c5cad488b1",
   "metadata": {
    "collapsed": true,
    "jupyter": {
     "outputs_hidden": true
    }
   },
   "outputs": [
    {
     "name": "stdout",
     "output_type": "stream",
     "text": [
      "Fitting 3 folds for each of 50 candidates, totalling 150 fits\n",
      "Best params: {'clf__learning_rate': np.float64(0.0412037280884873), 'clf__max_depth': 5, 'clf__min_samples_leaf': 11, 'clf__min_samples_split': 12, 'clf__n_estimators': 287, 'clf__subsample': np.float64(0.8001125833417065)}\n",
      "Best CV score: 0.8461942597299893\n",
      "Test Accuracy -> 0.845740\n",
      "              precision    recall  f1-score   support\n",
      "\n",
      "           0       0.86      0.98      0.92     29748\n",
      "           1       0.51      0.19      0.27      4881\n",
      "           2       0.36      0.01      0.02       915\n",
      "\n",
      "    accuracy                           0.85     35544\n",
      "   macro avg       0.58      0.39      0.40     35544\n",
      "weighted avg       0.80      0.85      0.81     35544\n",
      "\n"
     ]
    }
   ],
   "source": [
    "from sklearn.metrics import accuracy_score, classification_report\n",
    "# Train\n",
    "search.fit(x_train, y_train)\n",
    "\n",
    "print(\"Best params:\", search.best_params_)\n",
    "print(\"Best CV score:\", search.best_score_)\n",
    "\n",
    "# Đánh giá trên tập test\n",
    "best_model = search.best_estimator_\n",
    "y_pred = best_model.predict(x_test)\n",
    "\n",
    "acc = accuracy_score(y_test, y_pred)\n",
    "print(f\"Test Accuracy -> {acc:.6f}\")\n",
    "print(classification_report(y_test, y_pred))"
   ]
  },
  {
   "cell_type": "code",
   "execution_count": 33,
   "id": "4f21a3e0-22b2-4cdc-8f37-a1205e82ba80",
   "metadata": {},
   "outputs": [
    {
     "name": "stdout",
     "output_type": "stream",
     "text": [
      "              precision    recall  f1-score      support\n",
      "0              0.863735  0.979730  0.918083  29748.00000\n",
      "1              0.510698  0.185823  0.272495   4881.00000\n",
      "2              0.360000  0.009836  0.019149    915.00000\n",
      "accuracy       0.845740  0.845740  0.845740      0.84574\n",
      "macro avg      0.578144  0.391796  0.403242  35544.00000\n",
      "weighted avg   0.802287  0.845740  0.806288  35544.00000\n"
     ]
    }
   ],
   "source": [
    "from sklearn.metrics import classification_report\n",
    "import pandas as pd\n",
    "\n",
    "y_pred = search.predict(x_test)\n",
    "\n",
    "report = classification_report(y_test, y_pred, output_dict=True)\n",
    "\n",
    "df_report = pd.DataFrame(report).transpose()\n",
    "print(df_report)\n"
   ]
  },
  {
   "cell_type": "code",
   "execution_count": 37,
   "id": "0ed346dd-a4fd-4d8b-8e59-9607f1bcee1f",
   "metadata": {},
   "outputs": [
    {
     "name": "stdout",
     "output_type": "stream",
     "text": [
      "Collecting imbalanced-learn\n",
      "  Downloading imbalanced_learn-0.14.0-py3-none-any.whl.metadata (8.8 kB)\n",
      "Requirement already satisfied: numpy<3,>=1.25.2 in c:\\users\\hilda\\anaconda3\\envs\\myenv\\lib\\site-packages (from imbalanced-learn) (2.0.1)\n",
      "Requirement already satisfied: scipy<2,>=1.11.4 in c:\\users\\hilda\\anaconda3\\envs\\myenv\\lib\\site-packages (from imbalanced-learn) (1.15.3)\n",
      "Requirement already satisfied: scikit-learn<2,>=1.4.2 in c:\\users\\hilda\\anaconda3\\envs\\myenv\\lib\\site-packages (from imbalanced-learn) (1.7.1)\n",
      "Requirement already satisfied: joblib<2,>=1.2.0 in c:\\users\\hilda\\anaconda3\\envs\\myenv\\lib\\site-packages (from imbalanced-learn) (1.5.1)\n",
      "Requirement already satisfied: threadpoolctl<4,>=2.0.0 in c:\\users\\hilda\\anaconda3\\envs\\myenv\\lib\\site-packages (from imbalanced-learn) (3.5.0)\n",
      "Downloading imbalanced_learn-0.14.0-py3-none-any.whl (239 kB)\n",
      "Installing collected packages: imbalanced-learn\n",
      "Successfully installed imbalanced-learn-0.14.0\n",
      "Note: you may need to restart the kernel to use updated packages.\n"
     ]
    }
   ],
   "source": [
    "pip install imbalanced-learn"
   ]
  },
  {
   "cell_type": "code",
   "execution_count": 38,
   "id": "c009a7be-cf00-4eb4-8102-2c29629dd61d",
   "metadata": {},
   "outputs": [
    {
     "name": "stdout",
     "output_type": "stream",
     "text": [
      "Original dataset shape Counter({np.int64(1): 900, np.int64(0): 100})\n",
      "Resampled dataset shape Counter({np.int64(0): 904, np.int64(1): 900})\n"
     ]
    }
   ],
   "source": [
    "from collections import Counter\n",
    "from sklearn.datasets import make_classification\n",
    "from imblearn.over_sampling import ADASYN\n",
    "\n",
    "X, y = make_classification(n_classes=2, class_sep=2,\n",
    "                           weights=[0.1, 0.9], n_informative=3, n_redundant=1, flip_y=0,\n",
    "                           n_features=20, n_clusters_per_class=1, n_samples=1000,\n",
    "                           random_state=10)\n",
    "\n",
    "print('Original dataset shape %s' % Counter(y))\n",
    "\n",
    "ada = ADASYN(random_state=42)\n",
    "X_res, y_res = ada.fit_resample(X, y)\n",
    "\n",
    "print('Resampled dataset shape %s' % Counter(y_res))"
   ]
  },
  {
   "cell_type": "code",
   "execution_count": 41,
   "id": "377670ca-a2e5-4348-8cd0-43c615f925aa",
   "metadata": {},
   "outputs": [
    {
     "name": "stdout",
     "output_type": "stream",
     "text": [
      "                         Model  F1_score\n",
      "            LogisticRegression  0.773807\n",
      "               RidgeClassifier  0.765342\n",
      "                 SGDClassifier  0.762639\n",
      "                    GaussianNB  0.792284\n",
      "                 MultinomialNB  0.763216\n",
      "                   BernoulliNB  0.775557\n",
      "                 CategoricalNB  0.796799\n",
      "          KNeighborsClassifier  0.796592\n",
      "     RadiusNeighborsClassifier  0.762639\n",
      "               NearestCentroid  0.669488\n",
      "                           SVC  0.775557\n",
      "                     LinearSVC  0.765575\n",
      "                         NuSVC       NaN\n",
      "        DecisionTreeClassifier  0.753489\n",
      "        RandomForestClassifier  0.798261\n",
      "          ExtraTreesClassifier  0.792992\n",
      "    GradientBoostingClassifier  0.798505\n",
      "HistGradientBoostingClassifier  0.804958\n",
      "            AdaBoostClassifier  0.763536\n",
      "                 MLPClassifier  0.800422\n"
     ]
    }
   ],
   "source": [
    "import pandas as pd\n",
    "import numpy as np\n",
    "from sklearn.impute import SimpleImputer\n",
    "from sklearn.pipeline import Pipeline\n",
    "from sklearn.preprocessing import StandardScaler\n",
    "from sklearn import linear_model, naive_bayes, neighbors, svm, tree, ensemble, neural_network\n",
    "from sklearn.metrics import f1_score\n",
    "\n",
    "# 20 model\n",
    "models = {\n",
    "    \"LogisticRegression\": linear_model.LogisticRegression(max_iter=500),\n",
    "    \"RidgeClassifier\": linear_model.RidgeClassifier(),\n",
    "    \"SGDClassifier\": linear_model.SGDClassifier(),\n",
    "    \n",
    "    \"GaussianNB\": naive_bayes.GaussianNB(),\n",
    "    \"MultinomialNB\": naive_bayes.MultinomialNB(),\n",
    "    \"BernoulliNB\": naive_bayes.BernoulliNB(),\n",
    "    \"CategoricalNB\": naive_bayes.CategoricalNB(),\n",
    "    \n",
    "    \"KNeighborsClassifier\": neighbors.KNeighborsClassifier(),\n",
    "    \"RadiusNeighborsClassifier\": neighbors.RadiusNeighborsClassifier(radius=10.0, outlier_label=-1),\n",
    "    \"NearestCentroid\": neighbors.NearestCentroid(),\n",
    "    \n",
    "    \"SVC\": svm.SVC(),\n",
    "    \"LinearSVC\": svm.LinearSVC(),\n",
    "    \"NuSVC\": svm.NuSVC(),\n",
    "    \n",
    "    \"DecisionTreeClassifier\": tree.DecisionTreeClassifier(),\n",
    "    \"RandomForestClassifier\": ensemble.RandomForestClassifier(),\n",
    "    \"ExtraTreesClassifier\": ensemble.ExtraTreesClassifier(),\n",
    "    \"GradientBoostingClassifier\": ensemble.GradientBoostingClassifier(),\n",
    "    \"HistGradientBoostingClassifier\": ensemble.HistGradientBoostingClassifier(),\n",
    "    \"AdaBoostClassifier\": ensemble.AdaBoostClassifier(),\n",
    "    \n",
    "    \"MLPClassifier\": neural_network.MLPClassifier(max_iter=500),\n",
    "}\n",
    "\n"
   ]
  },
  {
   "cell_type": "code",
   "execution_count": 42,
   "id": "0824d26e-fa5e-4cb9-a071-3216a9010a0c",
   "metadata": {},
   "outputs": [
    {
     "name": "stdout",
     "output_type": "stream",
     "text": [
      "                         Model  F1_score\n",
      "            LogisticRegression  0.773807\n",
      "               RidgeClassifier  0.765342\n",
      "                 SGDClassifier  0.762639\n",
      "                    GaussianNB  0.792284\n",
      "                 MultinomialNB  0.763216\n",
      "                   BernoulliNB  0.775557\n",
      "                 CategoricalNB  0.796799\n",
      "          KNeighborsClassifier  0.796592\n",
      "     RadiusNeighborsClassifier  0.762639\n",
      "               NearestCentroid  0.669488\n",
      "                           SVC  0.775557\n",
      "                     LinearSVC  0.765575\n",
      "                         NuSVC       NaN\n",
      "        DecisionTreeClassifier  0.755302\n",
      "        RandomForestClassifier  0.798500\n",
      "          ExtraTreesClassifier  0.792726\n",
      "    GradientBoostingClassifier  0.798505\n",
      "HistGradientBoostingClassifier  0.804668\n",
      "            AdaBoostClassifier  0.763536\n",
      "                 MLPClassifier  0.793212\n"
     ]
    }
   ],
   "source": [
    "results_f1 = {}\n",
    "for name, model in models.items():\n",
    "    try:\n",
    "        pipe = Pipeline([\n",
    "            (\"imputer\", SimpleImputer(strategy=\"mean\")),\n",
    "            (\"scaler\", StandardScaler(with_mean=False)),\n",
    "            (\"clf\", model)\n",
    "        ])\n",
    "        pipe.fit(x_train, y_train)\n",
    "        y_pred = pipe.predict(x_test)\n",
    "\n",
    "        results_f1[name] = f1_score(y_test, y_pred, average=\"weighted\")\n",
    "    except Exception:\n",
    "        results_f1[name] = None\n",
    "\n",
    "df_results_f1 = pd.DataFrame(list(results_f1.items()), columns=[\"Model\", \"F1_score\"])\n",
    "print(df_results_f1.to_string(index=False))\n"
   ]
  },
  {
   "cell_type": "code",
   "execution_count": 44,
   "id": "f9d6e2b3-82f3-4eb9-b829-96ddb51ca168",
   "metadata": {},
   "outputs": [],
   "source": [
    "from sklearn.linear_model import LogisticRegression\n",
    "model = LogisticRegression(class_weight=\"balanced\", max_iter=500)\n",
    "\n",
    "pipe = Pipeline([\n",
    "    (\"imputer\", SimpleImputer(strategy=\"mean\")),  # xử lý giá trị thiếu\n",
    "    (\"scaler\", StandardScaler(with_mean=False)),  # chuẩn hóa dữ liệu\n",
    "    (\"clf\", model)\n",
    "])"
   ]
  },
  {
   "cell_type": "code",
   "execution_count": 47,
   "id": "49f6d753-9024-402c-b2f6-6202acd70826",
   "metadata": {},
   "outputs": [],
   "source": [
    "pipe.fit(x_train, y_train)\n",
    "y_pred = pipe.predict(x_test)"
   ]
  },
  {
   "cell_type": "code",
   "execution_count": 48,
   "id": "817c2d47-17b5-402f-9bce-d098b90007c2",
   "metadata": {},
   "outputs": [
    {
     "name": "stdout",
     "output_type": "stream",
     "text": [
      "Accuracy: 0.5932\n",
      "F1-score: 0.6721\n"
     ]
    }
   ],
   "source": [
    "f1 = f1_score(y_test, y_pred, average=\"weighted\")\n",
    "acc = accuracy_score(y_test, y_pred)\n",
    "\n",
    "print(f\"Accuracy: {acc:.4f}\")\n",
    "print(f\"F1-score: {f1:.4f}\")"
   ]
  },
  {
   "cell_type": "markdown",
   "id": "5cc47e6c-70c3-46b6-8194-5d76de87b331",
   "metadata": {},
   "source": [
    "# imblearn"
   ]
  },
  {
   "cell_type": "code",
   "execution_count": 54,
   "id": "252ad44d-ea30-4ded-9528-d14e0e6ec649",
   "metadata": {},
   "outputs": [
    {
     "name": "stdout",
     "output_type": "stream",
     "text": [
      "Accuracy: 0.7603814989871708\n",
      "F1-score: 0.7795677493274565\n"
     ]
    }
   ],
   "source": [
    "from imblearn.over_sampling import SMOTE\n",
    "smote = SMOTE(random_state=42)\n",
    "\n",
    "model = GradientBoostingClassifier(n_estimators=200, learning_rate=0.1, max_depth=3, random_state=42)\n",
    "\n",
    "pipe = Pipeline([\n",
    "    (\"imputer\", SimpleImputer(strategy=\"mean\")),\n",
    "    (\"scaler\", StandardScaler()),\n",
    "    (\"smote\", smote),\n",
    "    (\"cls\", model),\n",
    "])\n",
    "\n",
    "pipe.fit(x_train, y_train)\n",
    "y_pred = pipe.predict(x_test)\n",
    "\n",
    "print(\"Accuracy:\", accuracy_score(y_test, y_pred))\n",
    "print(\"F1-score:\", f1_score(y_test, y_pred, average=\"weighted\"))\n"
   ]
  },
  {
   "cell_type": "markdown",
   "id": "18a8b84d-67f7-4d21-924c-78ed877d261e",
   "metadata": {},
   "source": [
    "# Boosting"
   ]
  },
  {
   "cell_type": "code",
   "execution_count": 2,
   "id": "b0b71eb7-aadc-4f23-afdc-6c07623a6106",
   "metadata": {},
   "outputs": [
    {
     "ename": "NameError",
     "evalue": "name 'x_train' is not defined",
     "output_type": "error",
     "traceback": [
      "\u001b[1;31m---------------------------------------------------------------------------\u001b[0m",
      "\u001b[1;31mNameError\u001b[0m                                 Traceback (most recent call last)",
      "Cell \u001b[1;32mIn[2], line 29\u001b[0m\n\u001b[0;32m     20\u001b[0m param_dist \u001b[38;5;241m=\u001b[39m {\n\u001b[0;32m     21\u001b[0m     \u001b[38;5;124m\"\u001b[39m\u001b[38;5;124mcls__n_estimators\u001b[39m\u001b[38;5;124m\"\u001b[39m: [\u001b[38;5;241m200\u001b[39m, \u001b[38;5;241m400\u001b[39m, \u001b[38;5;241m600\u001b[39m],\n\u001b[0;32m     22\u001b[0m     \u001b[38;5;124m\"\u001b[39m\u001b[38;5;124mcls__learning_rate\u001b[39m\u001b[38;5;124m\"\u001b[39m: [\u001b[38;5;241m0.01\u001b[39m, \u001b[38;5;241m0.05\u001b[39m, \u001b[38;5;241m0.1\u001b[39m],\n\u001b[0;32m     23\u001b[0m     \u001b[38;5;124m\"\u001b[39m\u001b[38;5;124mcls__max_depth\u001b[39m\u001b[38;5;124m\"\u001b[39m: [\u001b[38;5;241m3\u001b[39m, \u001b[38;5;241m4\u001b[39m, \u001b[38;5;241m5\u001b[39m],\n\u001b[0;32m     24\u001b[0m     \u001b[38;5;124m\"\u001b[39m\u001b[38;5;124mcls__subsample\u001b[39m\u001b[38;5;124m\"\u001b[39m: [\u001b[38;5;241m0.7\u001b[39m, \u001b[38;5;241m0.8\u001b[39m, \u001b[38;5;241m1.0\u001b[39m],\n\u001b[0;32m     25\u001b[0m }\n\u001b[0;32m     27\u001b[0m search \u001b[38;5;241m=\u001b[39m RandomizedSearchCV(pipe, param_distributions\u001b[38;5;241m=\u001b[39mparam_dist,\n\u001b[0;32m     28\u001b[0m                             n_iter\u001b[38;5;241m=\u001b[39m\u001b[38;5;241m10\u001b[39m, cv\u001b[38;5;241m=\u001b[39m\u001b[38;5;241m3\u001b[39m, scoring\u001b[38;5;241m=\u001b[39m\u001b[38;5;124m\"\u001b[39m\u001b[38;5;124mf1_weighted\u001b[39m\u001b[38;5;124m\"\u001b[39m, n_jobs\u001b[38;5;241m=\u001b[39m\u001b[38;5;241m-\u001b[39m\u001b[38;5;241m1\u001b[39m)\n\u001b[1;32m---> 29\u001b[0m search\u001b[38;5;241m.\u001b[39mfit(\u001b[43mx_train\u001b[49m, y_train)\n\u001b[0;32m     31\u001b[0m y_pred \u001b[38;5;241m=\u001b[39m search\u001b[38;5;241m.\u001b[39mpredict(x_test)\n\u001b[0;32m     33\u001b[0m \u001b[38;5;28mprint\u001b[39m(\u001b[38;5;124m\"\u001b[39m\u001b[38;5;124mAccuracy:\u001b[39m\u001b[38;5;124m\"\u001b[39m, accuracy_score(y_test, y_pred))\n",
      "\u001b[1;31mNameError\u001b[0m: name 'x_train' is not defined"
     ]
    }
   ],
   "source": [
    "from sklearn.model_selection import RandomizedSearchCV\n",
    "from sklearn.metrics import f1_score, accuracy_score\n",
    "from imblearn.over_sampling import SMOTE\n",
    "from imblearn.pipeline import Pipeline\n",
    "from sklearn.impute import SimpleImputer\n",
    "from sklearn.preprocessing import StandardScaler\n",
    "from sklearn.ensemble import GradientBoostingClassifier\n",
    "\n",
    "smote = SMOTE(random_state=42)\n",
    "model = GradientBoostingClassifier(random_state=42)\n",
    "\n",
    "pipe = Pipeline([\n",
    "    (\"imputer\", SimpleImputer(strategy=\"mean\")),\n",
    "    (\"scaler\", StandardScaler()),\n",
    "    (\"smote\", smote),\n",
    "    (\"cls\", model),  \n",
    "])\n",
    "\n",
    "\n",
    "param_dist = {\n",
    "    \"cls__n_estimators\": [200, 400, 600],\n",
    "    \"cls__learning_rate\": [0.01, 0.05, 0.1],\n",
    "    \"cls__max_depth\": [3, 4, 5],\n",
    "    \"cls__subsample\": [0.7, 0.8, 1.0],\n",
    "}\n",
    "\n",
    "search = RandomizedSearchCV(pipe, param_distributions=param_dist,\n",
    "                            n_iter=10, cv=3, scoring=\"f1_weighted\", n_jobs=-1)\n",
    "search.fit(x_train, y_train)\n",
    "\n",
    "y_pred = search.predict(x_test)\n",
    "\n",
    "print(\"Accuracy:\", accuracy_score(y_test, y_pred))\n",
    "print(\"F1-score:\", f1_score(y_test, y_pred, average=\"weighted\"))\n",
    "print(\"Best params:\", search.best_params_)"
   ]
  },
  {
   "cell_type": "markdown",
   "id": "a3cdb46d-9dbc-4b80-b733-e74f67ef36a9",
   "metadata": {},
   "source": [
    "# > chuanar hoas du lieu"
   ]
  },
  {
   "cell_type": "code",
   "execution_count": null,
   "id": "5083b827-9fed-4e08-a66e-ff6d87537d0f",
   "metadata": {},
   "outputs": [],
   "source": [
    "import pandas as pd\n",
    "import numpy as np\n",
    "from sklearn.impute import SimpleImputer\n",
    "from sklearn import model_selection as ms\n",
    "\n",
    "# Load dữ liệu\n",
    "d_train = pd.read_csv(r\"E:\\DeepLearning\\agriculture\\train_agriculture.csv\", encoding='latin1')\n",
    "d_test = pd.read_excel(r\"E:\\DeepLearning\\agriculture\\test_agriculture.xlsx\")\n",
    "\n",
    "# Chuẩn bị dữ liệu\n",
    "x = d_train.iloc[:, 1:-1]\n",
    "y = d_train.iloc[:, -1].to_numpy()\n",
    "\n",
    "# Chia train/test\n",
    "x_train, x_test, y_train, y_test = ms.train_test_split(x, y, test_size=0.2, random_state=42)\n"
   ]
  },
  {
   "cell_type": "code",
   "execution_count": 3,
   "id": "cbd3bb2d-ba9c-4b76-b379-e9fe2afb36b1",
   "metadata": {},
   "outputs": [],
   "source": [
    "from imblearn.over_sampling import SMOTE\n",
    "from imblearn.pipeline import Pipeline\n",
    "from sklearn.preprocessing import StandardScaler\n",
    "from sklearn.ensemble import GradientBoostingClassifier\n",
    "from sklearn.model_selection import RandomizedSearchCV\n",
    "from sklearn.metrics import f1_score, accuracy_score\n",
    "smote = SMOTE(random_state=42)\n",
    "model = GradientBoostingClassifier(random_state=42)\n",
    "\n",
    "pipe = Pipeline([\n",
    "    (\"imputer\", SimpleImputer(strategy=\"mean\")),  \n",
    "    (\"scaler\", StandardScaler()),                 \n",
    "    (\"smote\", smote),                            \n",
    "    (\"cls\", model),                              \n",
    "])\n"
   ]
  },
  {
   "cell_type": "code",
   "execution_count": 4,
   "id": "c05ba6d4-e8ae-4f03-98d0-4b33d0965c05",
   "metadata": {},
   "outputs": [],
   "source": [
    "param_dist = {\n",
    "    \"cls__n_estimators\": [200, 400, 600, 800],\n",
    "    \"cls__learning_rate\": [0.01, 0.05, 0.1],\n",
    "    \"cls__max_depth\": [3, 4, 5, 6],\n",
    "    \"cls__subsample\": [0.7, 0.8, 1.0],\n",
    "    \"cls__min_samples_split\": [2, 5, 10],\n",
    "}\n",
    "\n",
    "search = RandomizedSearchCV(\n",
    "    pipe,\n",
    "    param_distributions=param_dist,\n",
    "    n_iter=20,\n",
    "    cv=3,\n",
    "    scoring=\"f1_weighted\",\n",
    "    n_jobs=-1,\n",
    "    random_state=42\n",
    ")\n"
   ]
  },
  {
   "cell_type": "code",
   "execution_count": null,
   "id": "c110677e-6b16-4b15-ac48-2ac65ddcc237",
   "metadata": {},
   "outputs": [],
   "source": [
    "search.fit(x_train, y_train)\n",
    "y_pred = search.predict(x_test)\n"
   ]
  },
  {
   "cell_type": "code",
   "execution_count": null,
   "id": "efc23abc-566e-41e8-b28f-b5ed16fa8015",
   "metadata": {},
   "outputs": [],
   "source": [
    "acc = accuracy_score(y_test, y_pred)\n",
    "f1 = f1_score(y_test, y_pred, average=\"weighted\")\n",
    "\n",
    "print(\"Accuracy:\", acc)\n",
    "print(\"F1-score:\", f1)\n",
    "print(\"Best params:\", search.best_params_)\n"
   ]
  }
 ],
 "metadata": {
  "kernelspec": {
   "display_name": "Python 3 (ipykernel)",
   "language": "python",
   "name": "python3"
  },
  "language_info": {
   "codemirror_mode": {
    "name": "ipython",
    "version": 3
   },
   "file_extension": ".py",
   "mimetype": "text/x-python",
   "name": "python",
   "nbconvert_exporter": "python",
   "pygments_lexer": "ipython3",
   "version": "3.10.18"
  }
 },
 "nbformat": 4,
 "nbformat_minor": 5
}
